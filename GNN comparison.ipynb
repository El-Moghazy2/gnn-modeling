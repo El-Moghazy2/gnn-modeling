{
  "cells": [
    {
      "cell_type": "code",
      "execution_count": null,
      "metadata": {
        "colab": {
          "base_uri": "https://localhost:8080/"
        },
        "id": "NgQNVtCuTHic",
        "outputId": "4e736c66-093d-4a43-8162-f3b8fd1c6167"
      },
      "outputs": [
        {
          "name": "stdout",
          "output_type": "stream",
          "text": [
            "Drive already mounted at /content/drive; to attempt to forcibly remount, call drive.mount(\"/content/drive\", force_remount=True).\n"
          ]
        }
      ],
      "source": [
        "from google.colab import drive\n",
        "drive.mount('/content/drive')"
      ]
    },
    {
      "cell_type": "code",
      "execution_count": null,
      "metadata": {
        "id": "YC7Dex1PTu68"
      },
      "outputs": [],
      "source": [
        "import os\n",
        "import sys\n",
        "from tempfile import NamedTemporaryFile\n",
        "from urllib.request import urlopen\n",
        "from urllib.parse import unquote, urlparse\n",
        "from urllib.error import HTTPError\n",
        "from zipfile import ZipFile\n",
        "import tarfile\n",
        "import shutil"
      ]
    },
    {
      "cell_type": "code",
      "execution_count": null,
      "metadata": {
        "colab": {
          "background_save": true,
          "base_uri": "https://localhost:8080/"
        },
        "id": "H48xvgrgEYOf",
        "outputId": "af75b3ab-ca3b-4619-ad2d-1b074b3a1f41"
      },
      "outputs": [
        {
          "name": "stdout",
          "output_type": "stream",
          "text": [
            "Requirement already satisfied: kaggle in /usr/local/lib/python3.10/dist-packages (1.6.12)\n",
            "Requirement already satisfied: six>=1.10 in /usr/local/lib/python3.10/dist-packages (from kaggle) (1.16.0)\n",
            "Requirement already satisfied: certifi>=2023.7.22 in /usr/local/lib/python3.10/dist-packages (from kaggle) (2024.2.2)\n",
            "Requirement already satisfied: python-dateutil in /usr/local/lib/python3.10/dist-packages (from kaggle) (2.8.2)\n",
            "Requirement already satisfied: requests in /usr/local/lib/python3.10/dist-packages (from kaggle) (2.31.0)\n",
            "Requirement already satisfied: tqdm in /usr/local/lib/python3.10/dist-packages (from kaggle) (4.66.2)\n",
            "Requirement already satisfied: python-slugify in /usr/local/lib/python3.10/dist-packages (from kaggle) (8.0.4)\n",
            "Requirement already satisfied: urllib3 in /usr/local/lib/python3.10/dist-packages (from kaggle) (2.0.7)\n",
            "Requirement already satisfied: bleach in /usr/local/lib/python3.10/dist-packages (from kaggle) (6.1.0)\n",
            "Requirement already satisfied: webencodings in /usr/local/lib/python3.10/dist-packages (from bleach->kaggle) (0.5.1)\n",
            "Requirement already satisfied: text-unidecode>=1.3 in /usr/local/lib/python3.10/dist-packages (from python-slugify->kaggle) (1.3)\n",
            "Requirement already satisfied: charset-normalizer<4,>=2 in /usr/local/lib/python3.10/dist-packages (from requests->kaggle) (3.3.2)\n",
            "Requirement already satisfied: idna<4,>=2.5 in /usr/local/lib/python3.10/dist-packages (from requests->kaggle) (3.7)\n",
            "cisc873-dm-w24-a6.zip: Skipping, found more recently modified local copy (use --force to force download)\n",
            "Archive:  /content/cisc873-dm-w24-a6.zip\n",
            "replace gcnn-template.ipynb? [y]es, [n]o, [A]ll, [N]one, [r]ename: "
          ]
        }
      ],
      "source": [
        "!sudo rm -R /root/.kaggle\n",
        "!mkdir kaggle\n",
        "!mv kaggle .kaggle\n",
        "\n",
        "!sudo cp /content/drive/MyDrive/folder/kaggle.json /content/.kaggle\n",
        "!sudo mv /content/.kaggle /root/\n",
        "\n",
        "!pip install kaggle\n",
        "!kaggle competitions download cisc873-dm-w24-a6\n",
        "!unzip /content/cisc873-dm-w24-a6.zip"
      ]
    },
    {
      "cell_type": "markdown",
      "metadata": {
        "id": "hVETXLG5EYOi"
      },
      "source": [
        "## Read SDF format data (structured-data format)\n",
        "\n",
        "Each line can be either a link, a node or a class depending on its value, if it starts with"
      ]
    },
    {
      "cell_type": "code",
      "execution_count": null,
      "metadata": {
        "colab": {
          "background_save": true
        },
        "id": "fcStGs55EYOj"
      },
      "outputs": [],
      "source": [
        "import numpy as np\n",
        "from tqdm.notebook import tqdm\n",
        "\n",
        "def read_sdf(file):\n",
        "    with open(file, 'r') as rf:\n",
        "        content = rf.read()\n",
        "    samples = content.split('$$$$')\n",
        "\n",
        "    def parse_sample(s):\n",
        "        lines = s.splitlines()\n",
        "        links = []\n",
        "        nodes = []\n",
        "        label = 0\n",
        "        for l in lines:\n",
        "          # checking if the line is from class 1 or class 0\n",
        "          # or whether it is a node or a link based on its value\n",
        "            if l.strip() == '1.0':\n",
        "                label = 1\n",
        "            if l.strip() == '-1.0':\n",
        "                label = 0\n",
        "            if l.startswith('    '):\n",
        "                feature = l.split()\n",
        "                node = feature[3]\n",
        "                nodes.append(node)\n",
        "            elif l.startswith(' '):\n",
        "                lnk = l.split()\n",
        "                # edge: (from, to,) (1-based index)\n",
        "                if int(lnk[0]) - 1 < len(nodes):\n",
        "                    links.append((\n",
        "                        int(lnk[0])-1,\n",
        "                        int(lnk[1])-1, # zero-based index\n",
        "                        # int(lnk[2]) ignore edge weight\n",
        "                    ))\n",
        "        return nodes, np.array(links), label\n",
        "\n",
        "    return [parse_sample(s) for s in tqdm(samples) if len(s[0]) > 0]\n",
        "\n",
        "\n"
      ]
    },
    {
      "cell_type": "code",
      "execution_count": null,
      "metadata": {
        "colab": {
          "background_save": true,
          "referenced_widgets": [
            "fb230df9d072432996e7f8ed35ed0bb8",
            "83e267696af34a098df1e2dcd6f643b7"
          ]
        },
        "id": "HciGXB1sEYOj",
        "outputId": "a7a3fa35-1bae-4144-f726-dcc4f95019f4"
      },
      "outputs": [
        {
          "data": {
            "application/vnd.jupyter.widget-view+json": {
              "model_id": "fb230df9d072432996e7f8ed35ed0bb8",
              "version_major": 2,
              "version_minor": 0
            },
            "text/plain": [
              "  0%|          | 0/25024 [00:00<?, ?it/s]"
            ]
          },
          "metadata": {},
          "output_type": "display_data"
        },
        {
          "data": {
            "application/vnd.jupyter.widget-view+json": {
              "model_id": "83e267696af34a098df1e2dcd6f643b7",
              "version_major": 2,
              "version_minor": 0
            },
            "text/plain": [
              "  0%|          | 0/12326 [00:00<?, ?it/s]"
            ]
          },
          "metadata": {},
          "output_type": "display_data"
        }
      ],
      "source": [
        "from sklearn.model_selection import train_test_split\n",
        "\n",
        "training_set = read_sdf(\"/content/train.sdf\")\n",
        "training_set, validation_set = train_test_split(training_set, test_size=0.15, shuffle = True)\n",
        "testing_set  = read_sdf(\"/content/test_x.sdf\")"
      ]
    },
    {
      "cell_type": "code",
      "execution_count": null,
      "metadata": {
        "colab": {
          "background_save": true
        },
        "id": "INz1ahvFEYOk",
        "outputId": "f174110f-3256-474f-d306-8e6e0759045b"
      },
      "outputs": [
        {
          "name": "stdout",
          "output_type": "stream",
          "text": [
            "(['Ir', 'O', 'O', 'O', 'N', 'N', 'C', 'C', 'C', 'C', 'C', 'C', 'C', 'C', 'C', 'C', 'C', 'C', 'C', 'C', 'C', 'C', 'C', 'C'], array([[ 0,  1],\n",
            "       [ 0,  4],\n",
            "       [ 0, 12],\n",
            "       [ 0, 13],\n",
            "       [ 1,  7],\n",
            "       [ 2, 12],\n",
            "       [ 3, 13],\n",
            "       [ 4,  5],\n",
            "       [ 4,  9],\n",
            "       [ 5,  6],\n",
            "       [ 6,  7],\n",
            "       [ 6,  8],\n",
            "       [ 7, 11],\n",
            "       [ 8, 10],\n",
            "       [ 8, 15],\n",
            "       [ 9, 16],\n",
            "       [ 9, 17],\n",
            "       [10, 14],\n",
            "       [10, 18],\n",
            "       [11, 14],\n",
            "       [15, 19],\n",
            "       [16, 21],\n",
            "       [17, 22],\n",
            "       [18, 20],\n",
            "       [19, 20],\n",
            "       [21, 23],\n",
            "       [22, 23]]), 0)\n"
          ]
        }
      ],
      "source": [
        "print(training_set[1])"
      ]
    },
    {
      "cell_type": "markdown",
      "metadata": {
        "id": "IddACaDaEYOk"
      },
      "source": [
        "## Visualizing/Inspecting a Sample"
      ]
    },
    {
      "cell_type": "code",
      "execution_count": null,
      "metadata": {
        "id": "Ib1sOycvEYOl"
      },
      "outputs": [],
      "source": [
        "!pip install --quiet networkx\n",
        "import networkx as nx\n",
        "import matplotlib.pyplot as plt\n",
        "from matplotlib import cm\n",
        "colors = cm.rainbow(np.linspace(0, 1, 50))"
      ]
    },
    {
      "cell_type": "code",
      "execution_count": 145,
      "metadata": {
        "id": "-1oZ7kOVEYOl"
      },
      "outputs": [],
      "source": [
        "def visualize(sample):\n",
        "    G=nx.Graph()\n",
        "    nodes = sample[0]\n",
        "    edges = sample[1]\n",
        "\n",
        "    labeldict={}\n",
        "    node_color=[]\n",
        "    for i,n in enumerate(nodes):\n",
        "      # adding nodes and colors for the node in the graph\n",
        "        G.add_node(i)\n",
        "        labeldict[i]=n\n",
        "        node_color.append(colors[hash(n)%len(colors)])\n",
        "\n",
        "    # a list of nodes:\n",
        "    for e in edges:\n",
        "        G.add_edge(e[0], e[1])\n",
        "\n",
        "    nx.draw(G, labels=labeldict, with_labels = True, node_color = node_color)\n",
        "    plt.show()\n",
        "\n",
        "    return G"
      ]
    },
    {
      "cell_type": "code",
      "execution_count": 146,
      "metadata": {
        "colab": {
          "base_uri": "https://localhost:8080/",
          "height": 534
        },
        "id": "5pLyYNTeEYOl",
        "outputId": "4a30089c-bee6-4416-c9a0-181eb0d9050d"
      },
      "outputs": [
        {
          "data": {
            "image/png": "[encoded data removed]",
            "text/plain": [
              "<Figure size 640x480 with 1 Axes>"
            ]
          },
          "metadata": {},
          "output_type": "display_data"
        },
        {
          "data": {
            "text/plain": [
              "<networkx.classes.graph.Graph at 0x7865814abd60>"
            ]
          },
          "execution_count": 146,
          "metadata": {},
          "output_type": "execute_result"
        }
      ],
      "source": [
        "plt.clf()\n",
        "visualize(training_set[20])"
      ]
    },
    {
      "cell_type": "markdown",
      "metadata": {
        "id": "YtqKu2xxEYOl"
      },
      "source": [
        "## Preprocessing:"
      ]
    },
    {
      "cell_type": "code",
      "execution_count": null,
      "metadata": {
        "id": "aZTpBPlcEYOm"
      },
      "outputs": [],
      "source": [
        "from tensorflow.keras.preprocessing.text import Tokenizer\n",
        "\n",
        "max_vocab = 500\n",
        "max_len = 100\n",
        "\n",
        "\n",
        "# build vocabulary from training set\n",
        "all_nodes = [s[0] for s in training_set]\n",
        "tokenizer = Tokenizer(num_words=max_vocab)\n",
        "tokenizer.fit_on_texts(all_nodes)"
      ]
    },
    {
      "cell_type": "code",
      "execution_count": null,
      "metadata": {
        "id": "3uXbg7SQEYOm"
      },
      "outputs": [],
      "source": [
        "from tensorflow.keras.preprocessing.sequence import pad_sequences\n",
        "import random\n",
        "random.seed(0)\n",
        "\n",
        "def prepare_single_batch(samples):\n",
        "  # prepare the data for a single batch for training or testing\n",
        "\n",
        "  # selecting nodes and edges that are going to be used int he batch\n",
        "    sample_nodes = [s[0] for s in samples]\n",
        "    sample_nodes = tokenizer.texts_to_sequences(sample_nodes)\n",
        "    sample_nodes = pad_sequences(sample_nodes, padding='post')\n",
        "    max_nodes_len = np.shape(sample_nodes)[1]\n",
        "    edges = [s[1]+i*max_nodes_len for i,s in enumerate(samples)]\n",
        "    edges = [e for e in edges if len(e) > 0]\n",
        "    node_to_graph = [[i]*max_nodes_len for i in range(len(samples))]\n",
        "\n",
        "    all_nodes = np.reshape(sample_nodes, -1)\n",
        "    all_edges = np.concatenate(edges)\n",
        "\n",
        "    node_to_graph = np.reshape(node_to_graph, -1)\n",
        "    return {\n",
        "        'data': all_nodes,\n",
        "        'edges': all_edges,\n",
        "        'node2grah': node_to_graph,\n",
        "    }, np.array([s[2] for s in samples])\n",
        "\n",
        "\n",
        "\n",
        "def gen_batch(dataset, batch_size=16, repeat=False, shuffle=True):\n",
        "    while True:\n",
        "        dataset = list(dataset)\n",
        "        if shuffle:\n",
        "            random.shuffle(dataset)\n",
        "        l = len(dataset)\n",
        "        for ndx in range(0, l, batch_size):\n",
        "            batch_samples = dataset[ndx:min(ndx + batch_size, l)]\n",
        "            yield prepare_single_batch(batch_samples)\n",
        "        if not repeat:\n",
        "            break\n"
      ]
    },
    {
      "cell_type": "code",
      "execution_count": null,
      "metadata": {
        "id": "ItQGNGcNEYOm"
      },
      "outputs": [],
      "source": [
        "# showing one batch:\n",
        "for train_batch in gen_batch(training_set, batch_size=4):\n",
        "    for k,v in train_batch[0].items():\n",
        "        print(k)\n",
        "        print(v)\n",
        "        pass\n",
        "    print('label', train_batch[1])\n",
        "    break"
      ]
    },
    {
      "cell_type": "code",
      "execution_count": null,
      "metadata": {
        "id": "DhKKlddeEYOm"
      },
      "outputs": [],
      "source": [
        "!pip install --quiet tf2_gnn\n",
        "\n",
        "# https://github.com/microsoft/tf2-gnn\n",
        "# https://github.com/microsoft/tf2-gnn/blob/master/tf2_gnn/layers/gnn.py\n",
        "\n",
        "from tf2_gnn.layers.gnn import GNN, GNNInput"
      ]
    },
    {
      "cell_type": "code",
      "execution_count": null,
      "metadata": {
        "colab": {
          "background_save": true
        },
        "id": "BDZiJ9DNEYOn"
      },
      "outputs": [],
      "source": [
        "# from .rgat import RGAT\n",
        "# from .rgcn import RGCN\n",
        "# from .rgin import RGIN\n",
        "# from .ggnn import GGNN\n",
        "# from .gnn_edge_mlp import GNN_Edge_MLP\n",
        "# from .gnn_film import GNN_FiLM\n",
        "from keras.layers import Layer, Input"
      ]
    },
    {
      "cell_type": "code",
      "execution_count": null,
      "metadata": {
        "colab": {
          "background_save": true
        },
        "id": "vuEX_6aLEYOn"
      },
      "outputs": [],
      "source": [
        "class ReduceMaxLayer(Layer):\n",
        "    def call(self, inputs):\n",
        "        # Apply the TensorFlow reduce_mean function\n",
        "        return tf.reduce_max(inputs) + 1"
      ]
    },
    {
      "cell_type": "code",
      "execution_count": null,
      "metadata": {
        "colab": {
          "background_save": true
        },
        "id": "ZDYRIwV7EYOn"
      },
      "outputs": [],
      "source": [
        "import tensorflow as tf\n",
        "from tensorflow.math import segment_mean\n",
        "from tensorflow import keras\n",
        "from tensorflow.keras import Input, Model\n",
        "from tensorflow.keras.layers import Embedding, Dense\n",
        "from tensorflow.keras.optimizers import Adam"
      ]
    },
    {
      "cell_type": "code",
      "execution_count": null,
      "metadata": {
        "colab": {
          "background_save": true
        },
        "id": "a51lVISFEYOn",
        "outputId": "94c8461b-bb43-447f-d422-0e7c41811f81"
      },
      "outputs": [
        {
          "data": {
            "application/vnd.google.colaboratory.intrinsic+json": {
              "type": "string"
            },
            "text/plain": [
              "'2.15.0'"
            ]
          },
          "execution_count": 71,
          "metadata": {},
          "output_type": "execute_result"
        }
      ],
      "source": [
        "tf.__version__"
      ]
    },
    {
      "cell_type": "code",
      "execution_count": null,
      "metadata": {
        "id": "WRFez1H6EYOo"
      },
      "outputs": [],
      "source": [
        "import math"
      ]
    },
    {
      "cell_type": "code",
      "execution_count": null,
      "metadata": {
        "id": "R9myYwDSEYOo"
      },
      "outputs": [],
      "source": [
        "def define_model(params):\n",
        "\n",
        "  data = keras.Input(batch_shape=(None,))\n",
        "\n",
        "  # the first dim is different to the previous one. it is the total number of edges in this batch\n",
        "  edge = keras.Input(batch_shape=(None, 2), dtype=tf.int32)\n",
        "  node2graph = keras.Input(batch_shape=(None,), dtype=tf.int32)\n",
        "  embeded = Embedding(tokenizer.num_words, 20)(data)\n",
        "\n",
        "  # number of graphs (number of samples)\n",
        "  num_graph = tf.reduce_max(node2graph)+1\n",
        "\n",
        "  gnn_input = GNNInput(\n",
        "      node_features=embeded,\n",
        "      adjacency_lists=(edge,),\n",
        "      node_to_graph_map=node2graph,\n",
        "      num_graphs=num_graph,\n",
        "  )\n",
        "\n",
        "  gnn_layer = GNN(params)\n",
        "  gnn_out = gnn_layer(gnn_input)\n",
        "\n",
        "  avg = segment_mean(\n",
        "      data=gnn_out,\n",
        "      segment_ids=node2graph\n",
        "  )\n",
        "\n",
        "  pred = Dense(1, activation='sigmoid')(avg)\n",
        "\n",
        "  model = Model(\n",
        "      inputs={\n",
        "          'data': data,\n",
        "          'edges': edge,\n",
        "          'node2grah': node2graph,\n",
        "      },\n",
        "      outputs=pred\n",
        "  )\n",
        "  model.summary()\n",
        "\n",
        "  return model"
      ]
    },
    {
      "cell_type": "code",
      "execution_count": 187,
      "metadata": {
        "colab": {
          "base_uri": "https://localhost:8080/"
        },
        "id": "7ea_JHJZVvaD",
        "outputId": "5f2c64b6-a6ec-43b4-8ccc-7609f61f3626"
      },
      "outputs": [
        {
          "name": "stdout",
          "output_type": "stream",
          "text": [
            "(19,)\n",
            "(21, 2)\n",
            "(19,)\n"
          ]
        }
      ],
      "source": [
        "for i in gen_batch(\n",
        "          training_set, batch_size=1, repeat=True\n",
        "      ):\n",
        "  print(i[0][\"data\"].shape)\n",
        "  print(i[0][\"edges\"].shape)\n",
        "  print(i[0][\"node2grah\"].shape)\n",
        "  break"
      ]
    },
    {
      "cell_type": "code",
      "execution_count": 91,
      "metadata": {
        "id": "z5EYCdcSEYOo"
      },
      "outputs": [],
      "source": [
        "def fit_model(batch_size, model, epochs, patience = 5):\n",
        "\n",
        "  model.compile(\n",
        "      loss='BinaryCrossentropy',\n",
        "      metrics=['AUC']\n",
        "  )\n",
        "\n",
        "  num_batchs = math.ceil(len(training_set) / batch_size)\n",
        "  num_batchs_validation = math.ceil(len(validation_set) / batch_size)\n",
        "\n",
        "  model.fit(\n",
        "      gen_batch(\n",
        "          training_set, batch_size=batch_size, repeat=True\n",
        "      ),\n",
        "      steps_per_epoch=num_batchs,\n",
        "      epochs=epochs,\n",
        "      validation_data=gen_batch(\n",
        "          validation_set, batch_size=batch_size, repeat=True\n",
        "      ),\n",
        "      callbacks=[\n",
        "        tf.keras.callbacks.EarlyStopping(monitor='val_loss', patience=5, mode='min')\n",
        "        ],\n",
        "      validation_steps=num_batchs_validation,\n",
        "  )"
      ]
    },
    {
      "cell_type": "markdown",
      "metadata": {
        "id": "SjWYBPFJWU-7"
      },
      "source": [
        "To start experimenting we first need to have a look on the repo documentation and the hyperparameters including the message passing algorithms used, below is a table of the performance of different models from the documentation as well"
      ]
    },
    {
      "cell_type": "markdown",
      "metadata": {
        "id": "Cc4OJ7tbxIKt"
      },
      "source": [
        "![image.png](data:image/png;base64,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)"
      ]
    },
    {
      "cell_type": "markdown",
      "metadata": {
        "id": "OtAW2a20yzhr"
      },
      "source": [
        "GGNN: Gated Graph Sequence Neural Networks: designed for graph-structured data. They use GRU cells to iteratively update node representations based on the graph structure, mapping these representations to outputs for tasks like classification or sequence prediction. (the paper was publishd in 2016)\n",
        "\n",
        "R-GCN: Relational Graph Convolutional Networks handles graph-structured data where the goal is to produce sequences as outputs. These networks learn features from graph inputs and utilize gated recurrent units for effective handling of sequential outputs. (2017) achieved better results according to the library documentation.\n",
        "\n",
        "RGAT: Graph Attentoin Networks GATs have demonstrated state-of-the-art results across various benchmarks, offering computational efficiency, model capacity, and applicability to inductive learning problems. (2018) according to the documentation it performed better than the previous ones\n",
        "\n",
        "GNN_FiLM: uses feature-wise linear modulation (FiLM) to modulate the information passed along the edges of a graph. (2020) also considered better than the previous ones\n",
        "\n",
        "Now it is time to try those with different configurations."
      ]
    },
    {
      "cell_type": "markdown",
      "metadata": {
        "id": "2nt6H9QlGKed"
      },
      "source": [
        "# Experiment 1\n",
        "\n",
        "There are many types of Graph Neural Networks as stated in the library that is used in the template, I will be following the benchmarking results above from the library page and I will use it in sequence from lowest to highest depending on the results of each experiment.\n",
        "\n",
        "For the first model I am going to use a Graph NN with hidden dimensions = 32 which is the template tht is provided, this one will be used as baseline to check what can be improved."
      ]
    },
    {
      "cell_type": "code",
      "execution_count": 144,
      "metadata": {
        "colab": {
          "base_uri": "https://localhost:8080/"
        },
        "id": "5Uc--1QlKtOL",
        "outputId": "b8772713-3379-414f-f12e-e9651ba7c002"
      },
      "outputs": [
        {
          "data": {
            "text/plain": [
              "{'aggregation_function': 'sum',\n",
              " 'message_activation_function': 'relu',\n",
              " 'message_activation_before_aggregation': False,\n",
              " 'hidden_dim': 16,\n",
              " 'use_target_state_as_input': False,\n",
              " 'normalize_by_num_incoming': True,\n",
              " 'num_edge_MLP_hidden_layers': 0,\n",
              " 'message_calculation_class': 'rgcn',\n",
              " 'initial_node_representation_activation': 'tanh',\n",
              " 'dense_intermediate_layer_activation': 'tanh',\n",
              " 'num_layers': 4,\n",
              " 'dense_every_num_layers': 2,\n",
              " 'residual_every_num_layers': 2,\n",
              " 'use_inter_layer_layernorm': False,\n",
              " 'layer_input_dropout_rate': 0.0,\n",
              " 'global_exchange_mode': 'gru',\n",
              " 'global_exchange_every_num_layers': 2,\n",
              " 'global_exchange_weighting_fun': 'softmax',\n",
              " 'global_exchange_num_heads': 4,\n",
              " 'global_exchange_dropout_rate': 0.2}"
            ]
          },
          "execution_count": 144,
          "metadata": {},
          "output_type": "execute_result"
        }
      ],
      "source": [
        "GNN.get_default_hyperparameters()"
      ]
    },
    {
      "cell_type": "code",
      "execution_count": null,
      "metadata": {
        "colab": {
          "base_uri": "https://localhost:8080/"
        },
        "id": "RaEadkdvF7wg",
        "outputId": "ee188a1e-a474-46d8-cd03-3b58d87dc0bd"
      },
      "outputs": [
        {
          "name": "stdout",
          "output_type": "stream",
          "text": [
            "Model: \"model_4\"\n",
            "__________________________________________________________________________________________________\n",
            " Layer (type)                Output Shape                 Param #   Connected to                  \n",
            "==================================================================================================\n",
            " input_18 (InputLayer)       [(None,)]                    0         []                            \n",
            "                                                                                                  \n",
            " input_16 (InputLayer)       [(None,)]                    0         []                            \n",
            "                                                                                                  \n",
            " tf.math.reduce_max_5 (TFOp  ()                           0         ['input_18[0][0]']            \n",
            " Lambda)                                                                                          \n",
            "                                                                                                  \n",
            " embedding_5 (Embedding)     (None, 20)                   10000     ['input_16[0][0]']            \n",
            "                                                                                                  \n",
            " input_17 (InputLayer)       [(None, 2)]                  0         []                            \n",
            "                                                                                                  \n",
            " tf.__operators__.add_5 (TF  ()                           0         ['tf.math.reduce_max_5[0][0]']\n",
            " OpLambda)                                                                                        \n",
            "                                                                                                  \n",
            " gnn_5 (GNN)                 (None, 32)                   47808     ['embedding_5[0][0]',         \n",
            "                                                                     'input_17[0][0]',            \n",
            "                                                                     'input_18[0][0]',            \n",
            "                                                                     'tf.__operators__.add_5[0][0]\n",
            "                                                                    ']                            \n",
            "                                                                                                  \n",
            " tf.math.segment_mean_4 (TF  (None, 32)                   0         ['gnn_5[0][0]',               \n",
            " OpLambda)                                                           'input_18[0][0]']            \n",
            "                                                                                                  \n",
            " dense_4 (Dense)             (None, 1)                    33        ['tf.math.segment_mean_4[0][0]\n",
            "                                                                    ']                            \n",
            "                                                                                                  \n",
            "==================================================================================================\n",
            "Total params: 57841 (225.94 KB)\n",
            "Trainable params: 57841 (225.94 KB)\n",
            "Non-trainable params: 0 (0.00 Byte)\n",
            "__________________________________________________________________________________________________\n",
            "Epoch 1/200\n",
            "333/333 [==============================] - 11s 22ms/step - loss: 0.2156 - auc: 0.5652 - val_loss: 0.1869 - val_auc: 0.6078\n",
            "Epoch 2/200\n",
            "333/333 [==============================] - 6s 17ms/step - loss: 0.1881 - auc: 0.6396 - val_loss: 0.1835 - val_auc: 0.6320\n",
            "Epoch 3/200\n",
            "333/333 [==============================] - 7s 21ms/step - loss: 0.1862 - auc: 0.6537 - val_loss: 0.1961 - val_auc: 0.6046\n",
            "Epoch 4/200\n",
            "333/333 [==============================] - 6s 17ms/step - loss: 0.1848 - auc: 0.6641 - val_loss: 0.1871 - val_auc: 0.6643\n",
            "Epoch 5/200\n",
            "333/333 [==============================] - 6s 17ms/step - loss: 0.1848 - auc: 0.6674 - val_loss: 0.1801 - val_auc: 0.6332\n",
            "Epoch 6/200\n",
            "333/333 [==============================] - 5s 16ms/step - loss: 0.1836 - auc: 0.6638 - val_loss: 0.1837 - val_auc: 0.6892\n",
            "Epoch 7/200\n",
            "333/333 [==============================] - 5s 16ms/step - loss: 0.1825 - auc: 0.6750 - val_loss: 0.1721 - val_auc: 0.6680\n",
            "Epoch 8/200\n",
            "333/333 [==============================] - 7s 20ms/step - loss: 0.1817 - auc: 0.6809 - val_loss: 0.1778 - val_auc: 0.6746\n",
            "Epoch 9/200\n",
            "333/333 [==============================] - 5s 16ms/step - loss: 0.1814 - auc: 0.6856 - val_loss: 0.1881 - val_auc: 0.6685\n",
            "Epoch 10/200\n",
            "333/333 [==============================] - 6s 18ms/step - loss: 0.1827 - auc: 0.6750 - val_loss: 0.1847 - val_auc: 0.6879\n",
            "Epoch 11/200\n",
            "333/333 [==============================] - 5s 16ms/step - loss: 0.1812 - auc: 0.6858 - val_loss: 0.1804 - val_auc: 0.6700\n",
            "Epoch 12/200\n",
            "333/333 [==============================] - 5s 16ms/step - loss: 0.1805 - auc: 0.6916 - val_loss: 0.1680 - val_auc: 0.6981\n",
            "Epoch 13/200\n",
            "333/333 [==============================] - 7s 21ms/step - loss: 0.1803 - auc: 0.6886 - val_loss: 0.1791 - val_auc: 0.6903\n",
            "Epoch 14/200\n",
            "333/333 [==============================] - 5s 15ms/step - loss: 0.1801 - auc: 0.6912 - val_loss: 0.1772 - val_auc: 0.7211\n",
            "Epoch 15/200\n",
            "333/333 [==============================] - 6s 19ms/step - loss: 0.1799 - auc: 0.6959 - val_loss: 0.1739 - val_auc: 0.6940\n",
            "Epoch 16/200\n",
            "333/333 [==============================] - 5s 16ms/step - loss: 0.1802 - auc: 0.6961 - val_loss: 0.1739 - val_auc: 0.6732\n",
            "Epoch 17/200\n",
            "333/333 [==============================] - 6s 18ms/step - loss: 0.1789 - auc: 0.6999 - val_loss: 0.1810 - val_auc: 0.6882\n"
          ]
        }
      ],
      "source": [
        "params = GNN.get_default_hyperparameters()\n",
        "params[\"hidden_dim\"] = 32\n",
        "params['message_calculation_class'] = 'GGNN'\n",
        "\n",
        "# make a model with the\n",
        "model = define_model(params)\n",
        "fit_model(64, model, 200)"
      ]
    },
    {
      "cell_type": "markdown",
      "metadata": {
        "id": "AHTQ6JGNY-40"
      },
      "source": [
        "The model is clearly underfitting, which means that we can have a model with more capacity to get better results."
      ]
    },
    {
      "cell_type": "markdown",
      "metadata": {
        "id": "V6TfmoAdZIJ2"
      },
      "source": [
        "# Experiment 2\n",
        "\n",
        "In this experiment I will add more layers to the model to check if this wuld make it better."
      ]
    },
    {
      "cell_type": "code",
      "execution_count": null,
      "metadata": {
        "colab": {
          "base_uri": "https://localhost:8080/"
        },
        "id": "5QD-NsjBZQq1",
        "outputId": "973bbf3a-40d5-4fc5-e94c-ec5ed1b29325"
      },
      "outputs": [
        {
          "name": "stdout",
          "output_type": "stream",
          "text": [
            "Model: \"model_5\"\n",
            "__________________________________________________________________________________________________\n",
            " Layer (type)                Output Shape                 Param #   Connected to                  \n",
            "==================================================================================================\n",
            " input_21 (InputLayer)       [(None,)]                    0         []                            \n",
            "                                                                                                  \n",
            " input_19 (InputLayer)       [(None,)]                    0         []                            \n",
            "                                                                                                  \n",
            " tf.math.reduce_max_6 (TFOp  ()                           0         ['input_21[0][0]']            \n",
            " Lambda)                                                                                          \n",
            "                                                                                                  \n",
            " embedding_6 (Embedding)     (None, 20)                   10000     ['input_19[0][0]']            \n",
            "                                                                                                  \n",
            " input_20 (InputLayer)       [(None, 2)]                  0         []                            \n",
            "                                                                                                  \n",
            " tf.__operators__.add_6 (TF  ()                           0         ['tf.math.reduce_max_6[0][0]']\n",
            " OpLambda)                                                                                        \n",
            "                                                                                                  \n",
            " gnn_6 (GNN)                 (None, 32)                   142080    ['embedding_6[0][0]',         \n",
            "                                                                     'input_20[0][0]',            \n",
            "                                                                     'input_21[0][0]',            \n",
            "                                                                     'tf.__operators__.add_6[0][0]\n",
            "                                                                    ']                            \n",
            "                                                                                                  \n",
            " tf.math.segment_mean_5 (TF  (None, 32)                   0         ['gnn_6[0][0]',               \n",
            " OpLambda)                                                           'input_21[0][0]']            \n",
            "                                                                                                  \n",
            " dense_5 (Dense)             (None, 1)                    33        ['tf.math.segment_mean_5[0][0]\n",
            "                                                                    ']                            \n",
            "                                                                                                  \n",
            "==================================================================================================\n",
            "Total params: 152113 (594.19 KB)\n",
            "Trainable params: 152113 (594.19 KB)\n",
            "Non-trainable params: 0 (0.00 Byte)\n",
            "__________________________________________________________________________________________________\n",
            "Epoch 1/200\n",
            "333/333 [==============================] - 27s 45ms/step - loss: 0.2125 - auc: 0.5524 - val_loss: 0.1861 - val_auc: 0.6180\n",
            "Epoch 2/200\n",
            "333/333 [==============================] - 14s 43ms/step - loss: 0.1925 - auc: 0.5976 - val_loss: 0.1901 - val_auc: 0.6178\n",
            "Epoch 3/200\n",
            "333/333 [==============================] - 14s 41ms/step - loss: 0.1908 - auc: 0.6148 - val_loss: 0.1834 - val_auc: 0.6101\n",
            "Epoch 4/200\n",
            "333/333 [==============================] - 13s 39ms/step - loss: 0.1899 - auc: 0.6266 - val_loss: 0.1756 - val_auc: 0.6054\n",
            "Epoch 5/200\n",
            "333/333 [==============================] - 13s 38ms/step - loss: 0.1902 - auc: 0.6213 - val_loss: 0.1930 - val_auc: 0.6201\n",
            "Epoch 6/200\n",
            "333/333 [==============================] - 13s 37ms/step - loss: 0.1900 - auc: 0.6270 - val_loss: 0.1753 - val_auc: 0.6113\n",
            "Epoch 7/200\n",
            "333/333 [==============================] - 12s 37ms/step - loss: 0.1900 - auc: 0.6313 - val_loss: 0.1908 - val_auc: 0.6211\n",
            "Epoch 8/200\n",
            "333/333 [==============================] - 14s 42ms/step - loss: 0.1890 - auc: 0.6276 - val_loss: 0.1937 - val_auc: 0.6031\n",
            "Epoch 9/200\n",
            "333/333 [==============================] - 13s 38ms/step - loss: 0.1889 - auc: 0.6362 - val_loss: 0.1836 - val_auc: 0.6092\n",
            "Epoch 10/200\n",
            "333/333 [==============================] - 13s 38ms/step - loss: 0.1878 - auc: 0.6465 - val_loss: 0.1870 - val_auc: 0.6189\n",
            "Epoch 11/200\n",
            "333/333 [==============================] - 13s 38ms/step - loss: 0.1891 - auc: 0.6335 - val_loss: 0.1925 - val_auc: 0.6137\n"
          ]
        }
      ],
      "source": [
        "params = GNN.get_default_hyperparameters()\n",
        "params[\"hidden_dim\"] = 32\n",
        "params[\"num_layers\"] = 10\n",
        "params['message_calculation_class'] = 'GGNN'\n",
        "\n",
        "# make a model with the\n",
        "model = define_model(params)\n",
        "fit_model(64, model, 200)"
      ]
    },
    {
      "cell_type": "markdown",
      "metadata": {
        "id": "pHHGStTYo2xx"
      },
      "source": [
        "Still not yeilding good results, so we can go to a better model as shown in the benchmarking table that was found in the lbrary repo, next time we will try RGCN with the basic configurations."
      ]
    },
    {
      "cell_type": "markdown",
      "metadata": {
        "id": "04GR548tpFIv"
      },
      "source": [
        "# Expriment 3\n",
        "\n",
        "we will try the RCGN with the default parameters to check if we can reduce bias."
      ]
    },
    {
      "cell_type": "code",
      "execution_count": null,
      "metadata": {
        "colab": {
          "base_uri": "https://localhost:8080/"
        },
        "id": "4PbcozTqpRKJ",
        "outputId": "8af4b88c-6824-4ef9-b74a-27402138656d"
      },
      "outputs": [
        {
          "name": "stdout",
          "output_type": "stream",
          "text": [
            "Model: \"model_3\"\n",
            "__________________________________________________________________________________________________\n",
            " Layer (type)                Output Shape                 Param #   Connected to                  \n",
            "==================================================================================================\n",
            " input_39 (InputLayer)       [(None,)]                    0         []                            \n",
            "                                                                                                  \n",
            " input_37 (InputLayer)       [(None,)]                    0         []                            \n",
            "                                                                                                  \n",
            " tf.math.reduce_max_12 (TFO  ()                           0         ['input_39[0][0]']            \n",
            " pLambda)                                                                                         \n",
            "                                                                                                  \n",
            " embedding_12 (Embedding)    (None, 20)                   10000     ['input_37[0][0]']            \n",
            "                                                                                                  \n",
            " input_38 (InputLayer)       [(None, 2)]                  0         []                            \n",
            "                                                                                                  \n",
            " tf.__operators__.add_12 (T  ()                           0         ['tf.math.reduce_max_12[0][0]'\n",
            " FOpLambda)                                                         ]                             \n",
            "                                                                                                  \n",
            " gnn_12 (GNN)                (None, 16)                   7904      ['embedding_12[0][0]',        \n",
            "                                                                     'input_38[0][0]',            \n",
            "                                                                     'input_39[0][0]',            \n",
            "                                                                     'tf.__operators__.add_12[0][0\n",
            "                                                                    ]']                           \n",
            "                                                                                                  \n",
            " tf.math.segment_mean_3 (TF  (None, 16)                   0         ['gnn_12[0][0]',              \n",
            " OpLambda)                                                           'input_39[0][0]']            \n",
            "                                                                                                  \n",
            " dense_3 (Dense)             (None, 1)                    17        ['tf.math.segment_mean_3[0][0]\n",
            "                                                                    ']                            \n",
            "                                                                                                  \n",
            "==================================================================================================\n",
            "Total params: 17921 (70.00 KB)\n",
            "Trainable params: 17921 (70.00 KB)\n",
            "Non-trainable params: 0 (0.00 Byte)\n",
            "__________________________________________________________________________________________________\n",
            "Epoch 1/200\n",
            "333/333 [==============================] - 20s 48ms/step - loss: 0.3548 - auc: 0.4089 - val_loss: 0.2598 - val_auc: 0.3573\n",
            "Epoch 2/200\n",
            "333/333 [==============================] - 13s 38ms/step - loss: 0.2188 - auc: 0.4650 - val_loss: 0.2016 - val_auc: 0.5646\n",
            "Epoch 3/200\n",
            "333/333 [==============================] - 12s 35ms/step - loss: 0.1983 - auc: 0.5718 - val_loss: 0.1976 - val_auc: 0.6406\n",
            "Epoch 4/200\n",
            "333/333 [==============================] - 13s 38ms/step - loss: 0.1954 - auc: 0.5889 - val_loss: 0.1846 - val_auc: 0.6502\n",
            "Epoch 5/200\n",
            "333/333 [==============================] - 13s 40ms/step - loss: 0.1909 - auc: 0.6183 - val_loss: 0.1871 - val_auc: 0.6755\n",
            "Epoch 6/200\n",
            "333/333 [==============================] - 14s 42ms/step - loss: 0.1874 - auc: 0.6366 - val_loss: 0.1846 - val_auc: 0.6606\n",
            "Epoch 7/200\n",
            "333/333 [==============================] - 14s 41ms/step - loss: 0.1862 - auc: 0.6477 - val_loss: 0.1903 - val_auc: 0.6435\n",
            "Epoch 8/200\n",
            "333/333 [==============================] - 14s 41ms/step - loss: 0.1853 - auc: 0.6489 - val_loss: 0.1984 - val_auc: 0.6444\n",
            "Epoch 9/200\n",
            "333/333 [==============================] - 14s 41ms/step - loss: 0.1855 - auc: 0.6500 - val_loss: 0.1926 - val_auc: 0.6579\n",
            "Epoch 10/200\n",
            "333/333 [==============================] - 13s 39ms/step - loss: 0.1826 - auc: 0.6717 - val_loss: 0.2018 - val_auc: 0.7153\n",
            "Epoch 11/200\n",
            "333/333 [==============================] - 13s 38ms/step - loss: 0.1820 - auc: 0.6772 - val_loss: 0.2011 - val_auc: 0.7128\n"
          ]
        }
      ],
      "source": [
        "params = GNN.get_default_hyperparameters()\n",
        "params['message_calculation_class'] = 'RGCN'\n",
        "\n",
        "# make a model with the\n",
        "model = define_model(params)\n",
        "fit_model(64, model, 200)"
      ]
    },
    {
      "cell_type": "markdown",
      "metadata": {
        "id": "ka2dpwpkqUfy"
      },
      "source": [
        "Results seems to be slightly better in average, some of the epochs has AUC greater than 0.7 which is an improvement. In the next experiment I will add more layers and try again with the same message passing algorithm."
      ]
    },
    {
      "cell_type": "markdown",
      "metadata": {
        "id": "WlpfvRMTqjOH"
      },
      "source": [
        "# Experiment 4\n",
        " Using 64 hidden dimensions and 10 hidden layers"
      ]
    },
    {
      "cell_type": "code",
      "execution_count": null,
      "metadata": {
        "colab": {
          "base_uri": "https://localhost:8080/"
        },
        "id": "ARpnPbeCqx1M",
        "outputId": "fa410b37-0d12-415f-fc1a-8f20d3e61b6e"
      },
      "outputs": [
        {
          "name": "stdout",
          "output_type": "stream",
          "text": [
            "Model: \"model_1\"\n",
            "__________________________________________________________________________________________________\n",
            " Layer (type)                Output Shape                 Param #   Connected to                  \n",
            "==================================================================================================\n",
            " input_21 (InputLayer)       [(None,)]                    0         []                            \n",
            "                                                                                                  \n",
            " input_19 (InputLayer)       [(None,)]                    0         []                            \n",
            "                                                                                                  \n",
            " tf.math.reduce_max_6 (TFOp  ()                           0         ['input_21[0][0]']            \n",
            " Lambda)                                                                                          \n",
            "                                                                                                  \n",
            " embedding_6 (Embedding)     (None, 20)                   10000     ['input_19[0][0]']            \n",
            "                                                                                                  \n",
            " input_20 (InputLayer)       [(None, 2)]                  0         []                            \n",
            "                                                                                                  \n",
            " tf.__operators__.add_6 (TF  ()                           0         ['tf.math.reduce_max_6[0][0]']\n",
            " OpLambda)                                                                                        \n",
            "                                                                                                  \n",
            " gnn_6 (GNN)                 (None, 50)                   6000      ['embedding_6[0][0]',         \n",
            "                                                                     'input_20[0][0]',            \n",
            "                                                                     'input_21[0][0]',            \n",
            "                                                                     'tf.__operators__.add_6[0][0]\n",
            "                                                                    ']                            \n",
            "                                                                                                  \n",
            " tf.math.segment_mean_1 (TF  (None, 50)                   0         ['gnn_6[0][0]',               \n",
            " OpLambda)                                                           'input_21[0][0]']            \n",
            "                                                                                                  \n",
            " dense_1 (Dense)             (None, 1)                    51        ['tf.math.segment_mean_1[0][0]\n",
            "                                                                    ']                            \n",
            "                                                                                                  \n",
            "==================================================================================================\n",
            "Total params: 16051 (62.70 KB)\n",
            "Trainable params: 16051 (62.70 KB)\n",
            "Non-trainable params: 0 (0.00 Byte)\n",
            "__________________________________________________________________________________________________\n",
            "Epoch 1/200\n",
            "1330/1330 [==============================] - 11s 8ms/step - loss: 0.2580 - auc: 0.3993 - val_loss: 0.2324 - val_auc: 0.4165\n",
            "Epoch 2/200\n",
            "1330/1330 [==============================] - 11s 8ms/step - loss: 0.2283 - auc: 0.4398 - val_loss: 0.2121 - val_auc: 0.4609\n",
            "Epoch 3/200\n",
            "1330/1330 [==============================] - 8s 6ms/step - loss: 0.2135 - auc: 0.4783 - val_loss: 0.2003 - val_auc: 0.5193\n",
            "Epoch 4/200\n",
            "1330/1330 [==============================] - 12s 9ms/step - loss: 0.2040 - auc: 0.5235 - val_loss: 0.1947 - val_auc: 0.5094\n",
            "Epoch 5/200\n",
            "1330/1330 [==============================] - 10s 8ms/step - loss: 0.1981 - auc: 0.5492 - val_loss: 0.1924 - val_auc: 0.5734\n",
            "Epoch 6/200\n",
            "1330/1330 [==============================] - 8s 6ms/step - loss: 0.1933 - auc: 0.5906 - val_loss: 0.1852 - val_auc: 0.6017\n",
            "Epoch 7/200\n",
            "1330/1330 [==============================] - 9s 7ms/step - loss: 0.1904 - auc: 0.6102 - val_loss: 0.1850 - val_auc: 0.6101\n",
            "Epoch 8/200\n",
            "1330/1330 [==============================] - 10s 8ms/step - loss: 0.1888 - auc: 0.6314 - val_loss: 0.1782 - val_auc: 0.6246\n",
            "Epoch 9/200\n",
            "1330/1330 [==============================] - 9s 7ms/step - loss: 0.1871 - auc: 0.6469 - val_loss: 0.1872 - val_auc: 0.6138\n",
            "Epoch 10/200\n",
            "1330/1330 [==============================] - 10s 8ms/step - loss: 0.1867 - auc: 0.6557 - val_loss: 0.1794 - val_auc: 0.6447\n",
            "Epoch 11/200\n",
            "1330/1330 [==============================] - 10s 8ms/step - loss: 0.1850 - auc: 0.6656 - val_loss: 0.1837 - val_auc: 0.6434\n",
            "Epoch 12/200\n",
            "1330/1330 [==============================] - 9s 6ms/step - loss: 0.1846 - auc: 0.6769 - val_loss: 0.1815 - val_auc: 0.6427\n",
            "Epoch 13/200\n",
            "1330/1330 [==============================] - 10s 8ms/step - loss: 0.1832 - auc: 0.6859 - val_loss: 0.1883 - val_auc: 0.6594\n"
          ]
        }
      ],
      "source": [
        "params = GNN.get_default_hyperparameters()\n",
        "params[\"hidden_dim\"] = 50\n",
        "params[\"num_layers\"] = 1\n",
        "\n",
        "params['message_calculation_class'] = 'RGCN'\n",
        "\n",
        "# make a model with the\n",
        "model = define_model(params)\n",
        "fit_model(16, model, 200)"
      ]
    },
    {
      "cell_type": "markdown",
      "metadata": {
        "id": "MDOINM0CqjKv"
      },
      "source": [
        "Results are not improving much, so I will be using the next model in the table.\n"
      ]
    },
    {
      "cell_type": "markdown",
      "metadata": {
        "id": "Fr8zkXp2BYIl"
      },
      "source": [
        "# Experiment 5\n",
        "Now I will try the RGAT message-passing model which might peprform better."
      ]
    },
    {
      "cell_type": "code",
      "execution_count": null,
      "metadata": {
        "colab": {
          "base_uri": "https://localhost:8080/"
        },
        "id": "TfLEZrigBikJ",
        "outputId": "951dd792-08a8-4820-83f6-cbb0614fc60b"
      },
      "outputs": [
        {
          "name": "stdout",
          "output_type": "stream",
          "text": [
            "Model: \"model\"\n",
            "__________________________________________________________________________________________________\n",
            " Layer (type)                Output Shape                 Param #   Connected to                  \n",
            "==================================================================================================\n",
            " input_12 (InputLayer)       [(None,)]                    0         []                            \n",
            "                                                                                                  \n",
            " input_10 (InputLayer)       [(None,)]                    0         []                            \n",
            "                                                                                                  \n",
            " tf.math.reduce_max_3 (TFOp  ()                           0         ['input_12[0][0]']            \n",
            " Lambda)                                                                                          \n",
            "                                                                                                  \n",
            " embedding_3 (Embedding)     (None, 20)                   10000     ['input_10[0][0]']            \n",
            "                                                                                                  \n",
            " input_11 (InputLayer)       [(None, 2)]                  0         []                            \n",
            "                                                                                                  \n",
            " tf.__operators__.add_3 (TF  ()                           0         ['tf.math.reduce_max_3[0][0]']\n",
            " OpLambda)                                                                                        \n",
            "                                                                                                  \n",
            " gnn_3 (GNN)                 (None, 64)                   72064     ['embedding_3[0][0]',         \n",
            "                                                                     'input_11[0][0]',            \n",
            "                                                                     'input_12[0][0]',            \n",
            "                                                                     'tf.__operators__.add_3[0][0]\n",
            "                                                                    ']                            \n",
            "                                                                                                  \n",
            " tf.math.segment_mean (TFOp  (None, 64)                   0         ['gnn_3[0][0]',               \n",
            " Lambda)                                                             'input_12[0][0]']            \n",
            "                                                                                                  \n",
            " dense (Dense)               (None, 1)                    65        ['tf.math.segment_mean[0][0]']\n",
            "                                                                                                  \n",
            "==================================================================================================\n",
            "Total params: 82129 (320.82 KB)\n",
            "Trainable params: 82129 (320.82 KB)\n",
            "Non-trainable params: 0 (0.00 Byte)\n",
            "__________________________________________________________________________________________________\n",
            "Epoch 1/200\n",
            "1330/1330 [==============================] - 73s 49ms/step - loss: 0.2213 - auc: 0.5497 - val_loss: 0.2100 - val_auc: 0.6541\n",
            "Epoch 2/200\n",
            "1330/1330 [==============================] - 63s 47ms/step - loss: 0.1922 - auc: 0.6412 - val_loss: 0.2109 - val_auc: 0.6561\n",
            "Epoch 3/200\n",
            "1330/1330 [==============================] - 67s 50ms/step - loss: 0.1880 - auc: 0.6660 - val_loss: 0.2021 - val_auc: 0.6946\n",
            "Epoch 4/200\n",
            "1330/1330 [==============================] - 67s 50ms/step - loss: 0.1849 - auc: 0.6860 - val_loss: 0.1903 - val_auc: 0.7097\n",
            "Epoch 5/200\n",
            "1330/1330 [==============================] - 65s 49ms/step - loss: 0.1809 - auc: 0.7024 - val_loss: 0.1889 - val_auc: 0.7253\n",
            "Epoch 6/200\n",
            "1330/1330 [==============================] - 63s 48ms/step - loss: 0.1804 - auc: 0.7046 - val_loss: 0.1843 - val_auc: 0.7254\n",
            "Epoch 7/200\n",
            "1330/1330 [==============================] - 66s 49ms/step - loss: 0.1796 - auc: 0.7081 - val_loss: 0.2046 - val_auc: 0.6548\n",
            "Epoch 8/200\n",
            "1330/1330 [==============================] - 63s 47ms/step - loss: 0.1785 - auc: 0.7107 - val_loss: 0.1866 - val_auc: 0.7506\n",
            "Epoch 9/200\n",
            "1330/1330 [==============================] - 67s 50ms/step - loss: 0.1761 - auc: 0.7227 - val_loss: 0.1937 - val_auc: 0.7099\n",
            "Epoch 10/200\n",
            "1330/1330 [==============================] - 65s 49ms/step - loss: 0.1765 - auc: 0.7230 - val_loss: 0.1880 - val_auc: 0.7336\n",
            "Epoch 11/200\n",
            "1330/1330 [==============================] - 65s 49ms/step - loss: 0.1765 - auc: 0.7269 - val_loss: 0.1977 - val_auc: 0.7097\n"
          ]
        }
      ],
      "source": [
        "params[\"hidden_dim\"] = 64\n",
        "params['message_calculation_class']= 'RGAT'\n",
        "params['num_heads']= 4\n",
        "\n",
        "model = define_model(params)\n",
        "fit_model(16, model, 200)"
      ]
    },
    {
      "cell_type": "markdown",
      "metadata": {
        "id": "HqzR9XbdhXLl"
      },
      "source": [
        "It still didn't improve much, but I will try a deeper model and different configrations to try making the model better and having more capacity."
      ]
    },
    {
      "cell_type": "markdown",
      "metadata": {
        "id": "8VNUjWXIhi0J"
      },
      "source": [
        "# Experiment 6\n",
        "Using RGAT with more num_heads, hidden dimensions = 100, num_layers = 10"
      ]
    },
    {
      "cell_type": "code",
      "execution_count": null,
      "metadata": {
        "colab": {
          "base_uri": "https://localhost:8080/"
        },
        "id": "Z7cDjmrvh0t5",
        "outputId": "083e26ae-e78b-4ee3-ebae-92da47b37fb0"
      },
      "outputs": [
        {
          "name": "stdout",
          "output_type": "stream",
          "text": [
            "Model: \"model_2\"\n",
            "__________________________________________________________________________________________________\n",
            " Layer (type)                Output Shape                 Param #   Connected to                  \n",
            "==================================================================================================\n",
            " input_33 (InputLayer)       [(None,)]                    0         []                            \n",
            "                                                                                                  \n",
            " input_31 (InputLayer)       [(None,)]                    0         []                            \n",
            "                                                                                                  \n",
            " tf.math.reduce_max_10 (TFO  ()                           0         ['input_33[0][0]']            \n",
            " pLambda)                                                                                         \n",
            "                                                                                                  \n",
            " embedding_10 (Embedding)    (None, 20)                   10000     ['input_31[0][0]']            \n",
            "                                                                                                  \n",
            " input_32 (InputLayer)       [(None, 2)]                  0         []                            \n",
            "                                                                                                  \n",
            " tf.__operators__.add_10 (T  ()                           0         ['tf.math.reduce_max_10[0][0]'\n",
            " FOpLambda)                                                         ]                             \n",
            "                                                                                                  \n",
            " gnn_10 (GNN)                (None, 64)                   126080    ['embedding_10[0][0]',        \n",
            "                                                                     'input_32[0][0]',            \n",
            "                                                                     'input_33[0][0]',            \n",
            "                                                                     'tf.__operators__.add_10[0][0\n",
            "                                                                    ]']                           \n",
            "                                                                                                  \n",
            " tf.math.segment_mean_2 (TF  (None, 64)                   0         ['gnn_10[0][0]',              \n",
            " OpLambda)                                                           'input_33[0][0]']            \n",
            "                                                                                                  \n",
            " dense_2 (Dense)             (None, 1)                    65        ['tf.math.segment_mean_2[0][0]\n",
            "                                                                    ']                            \n",
            "                                                                                                  \n",
            "==================================================================================================\n",
            "Total params: 136145 (531.82 KB)\n",
            "Trainable params: 136145 (531.82 KB)\n",
            "Non-trainable params: 0 (0.00 Byte)\n",
            "__________________________________________________________________________________________________\n",
            "Epoch 1/200\n",
            "1330/1330 [==============================] - 133s 82ms/step - loss: 0.2008 - auc: 0.5540 - val_loss: 0.1995 - val_auc: 0.6856\n",
            "Epoch 2/200\n",
            "1330/1330 [==============================] - 106s 79ms/step - loss: 0.1881 - auc: 0.6516 - val_loss: 0.1922 - val_auc: 0.6883\n",
            "Epoch 3/200\n",
            "1330/1330 [==============================] - 107s 80ms/step - loss: 0.1845 - auc: 0.6645 - val_loss: 0.1909 - val_auc: 0.7016\n",
            "Epoch 4/200\n",
            "1330/1330 [==============================] - 108s 81ms/step - loss: 0.1827 - auc: 0.6770 - val_loss: 0.1887 - val_auc: 0.7141\n",
            "Epoch 5/200\n",
            "1330/1330 [==============================] - 106s 80ms/step - loss: 0.1790 - auc: 0.6958 - val_loss: 0.1926 - val_auc: 0.7108\n",
            "Epoch 6/200\n",
            "1330/1330 [==============================] - 109s 82ms/step - loss: 0.1771 - auc: 0.7091 - val_loss: 0.1843 - val_auc: 0.7270\n",
            "Epoch 7/200\n",
            "1330/1330 [==============================] - 108s 81ms/step - loss: 0.1752 - auc: 0.7132 - val_loss: 0.1812 - val_auc: 0.7287\n",
            "Epoch 8/200\n",
            "1330/1330 [==============================] - 107s 80ms/step - loss: 0.1735 - auc: 0.7162 - val_loss: 0.1918 - val_auc: 0.7298\n",
            "Epoch 9/200\n",
            "1330/1330 [==============================] - 108s 82ms/step - loss: 0.1744 - auc: 0.7157 - val_loss: 0.1780 - val_auc: 0.7224\n",
            "Epoch 10/200\n",
            "1330/1330 [==============================] - 105s 79ms/step - loss: 0.1729 - auc: 0.7164 - val_loss: 0.1945 - val_auc: 0.7352\n",
            "Epoch 11/200\n",
            "1330/1330 [==============================] - 109s 82ms/step - loss: 0.1724 - auc: 0.7119 - val_loss: 0.1819 - val_auc: 0.7198\n",
            "Epoch 12/200\n",
            "1330/1330 [==============================] - 109s 82ms/step - loss: 0.1739 - auc: 0.7095 - val_loss: 0.1810 - val_auc: 0.7382\n",
            "Epoch 13/200\n",
            "1330/1330 [==============================] - 112s 84ms/step - loss: 0.1726 - auc: 0.7160 - val_loss: 0.1796 - val_auc: 0.7100\n",
            "Epoch 14/200\n",
            "1330/1330 [==============================] - 110s 83ms/step - loss: 0.1716 - auc: 0.7254 - val_loss: 0.1776 - val_auc: 0.7546\n",
            "Epoch 15/200\n",
            "1330/1330 [==============================] - 113s 85ms/step - loss: 0.1728 - auc: 0.7168 - val_loss: 0.1911 - val_auc: 0.7191\n",
            "Epoch 16/200\n",
            "1330/1330 [==============================] - 110s 82ms/step - loss: 0.1736 - auc: 0.7110 - val_loss: 0.1855 - val_auc: 0.6980\n",
            "Epoch 17/200\n",
            "1330/1330 [==============================] - 111s 83ms/step - loss: 0.1736 - auc: 0.7120 - val_loss: 0.1900 - val_auc: 0.7377\n",
            "Epoch 18/200\n",
            "1330/1330 [==============================] - 107s 80ms/step - loss: 0.1735 - auc: 0.7132 - val_loss: 0.1781 - val_auc: 0.7333\n",
            "Epoch 19/200\n",
            " 327/1330 [======>.......................] - ETA: 1:23 - loss: 0.1760 - auc: 0.7104"
          ]
        }
      ],
      "source": [
        "params[\"hidden_dim\"] = 64\n",
        "params['message_calculation_class']= 'RGAT'\n",
        "params[\"num_layers\"] = 5\n",
        "params['num_heads']= 8\n",
        "\n",
        "model = define_model(params)\n",
        "fit_model(16, model, 200)"
      ]
    },
    {
      "cell_type": "markdown",
      "metadata": {
        "id": "jFa5-1Sg0FWh"
      },
      "source": [
        "Not much improved still so I will try the next model which should be better or simillar to this."
      ]
    },
    {
      "cell_type": "markdown",
      "metadata": {
        "id": "3t6JXQzb0L57"
      },
      "source": [
        "# Experiment 7"
      ]
    },
    {
      "cell_type": "markdown",
      "metadata": {
        "id": "JAipnbu4L3N3"
      },
      "source": [
        "In this experiment I will try the last message calculation class GNN_FiLM with one film_parameter_MLP_hidden_layers"
      ]
    },
    {
      "cell_type": "code",
      "execution_count": 84,
      "metadata": {
        "colab": {
          "base_uri": "https://localhost:8080/"
        },
        "id": "REkxPDZ70UZd",
        "outputId": "253f666b-d799-4b36-a262-2c105a84ee6c"
      },
      "outputs": [
        {
          "name": "stdout",
          "output_type": "stream",
          "text": [
            "Model: \"model_6\"\n",
            "__________________________________________________________________________________________________\n",
            " Layer (type)                Output Shape                 Param #   Connected to                  \n",
            "==================================================================================================\n",
            " input_69 (InputLayer)       [(None,)]                    0         []                            \n",
            "                                                                                                  \n",
            " input_67 (InputLayer)       [(None,)]                    0         []                            \n",
            "                                                                                                  \n",
            " tf.math.reduce_max_22 (TFO  ()                           0         ['input_69[0][0]']            \n",
            " pLambda)                                                                                         \n",
            "                                                                                                  \n",
            " embedding_22 (Embedding)    (None, 20)                   10000     ['input_67[0][0]']            \n",
            "                                                                                                  \n",
            " input_68 (InputLayer)       [(None, 2)]                  0         []                            \n",
            "                                                                                                  \n",
            " tf.__operators__.add_22 (T  ()                           0         ['tf.math.reduce_max_22[0][0]'\n",
            " FOpLambda)                                                         ]                             \n",
            "                                                                                                  \n",
            " gnn_22 (GNN)                (None, 16)                   14048     ['embedding_22[0][0]',        \n",
            "                                                                     'input_68[0][0]',            \n",
            "                                                                     'input_69[0][0]',            \n",
            "                                                                     'tf.__operators__.add_22[0][0\n",
            "                                                                    ]']                           \n",
            "                                                                                                  \n",
            " tf.math.segment_mean_6 (TF  (None, 16)                   0         ['gnn_22[0][0]',              \n",
            " OpLambda)                                                           'input_69[0][0]']            \n",
            "                                                                                                  \n",
            " dense_6 (Dense)             (None, 1)                    17        ['tf.math.segment_mean_6[0][0]\n",
            "                                                                    ']                            \n",
            "                                                                                                  \n",
            "==================================================================================================\n",
            "Total params: 24065 (94.00 KB)\n",
            "Trainable params: 24065 (94.00 KB)\n",
            "Non-trainable params: 0 (0.00 Byte)\n",
            "__________________________________________________________________________________________________\n",
            "Epoch 1/200\n",
            "333/333 [==============================] - 25s 63ms/step - loss: 0.3073 - auc: 0.4330 - val_loss: 0.2022 - val_auc: 0.6465\n",
            "Epoch 2/200\n",
            "333/333 [==============================] - 16s 49ms/step - loss: 0.2019 - auc: 0.5850 - val_loss: 0.1896 - val_auc: 0.6426\n",
            "Epoch 3/200\n",
            "333/333 [==============================] - 16s 47ms/step - loss: 0.1959 - auc: 0.6073 - val_loss: 0.1892 - val_auc: 0.6277\n",
            "Epoch 4/200\n",
            "333/333 [==============================] - 16s 49ms/step - loss: 0.1923 - auc: 0.6272 - val_loss: 0.1817 - val_auc: 0.6509\n",
            "Epoch 5/200\n",
            "333/333 [==============================] - 16s 49ms/step - loss: 0.1902 - auc: 0.6425 - val_loss: 0.1832 - val_auc: 0.6991\n",
            "Epoch 6/200\n",
            "333/333 [==============================] - 16s 49ms/step - loss: 0.1896 - auc: 0.6504 - val_loss: 0.1877 - val_auc: 0.6969\n",
            "Epoch 7/200\n",
            "333/333 [==============================] - 16s 49ms/step - loss: 0.1869 - auc: 0.6693 - val_loss: 0.1787 - val_auc: 0.6894\n",
            "Epoch 8/200\n",
            "333/333 [==============================] - 17s 50ms/step - loss: 0.1862 - auc: 0.6779 - val_loss: 0.1804 - val_auc: 0.7348\n",
            "Epoch 9/200\n",
            "333/333 [==============================] - 16s 50ms/step - loss: 0.1832 - auc: 0.6939 - val_loss: 0.2120 - val_auc: 0.6865\n",
            "Epoch 10/200\n",
            "333/333 [==============================] - 16s 48ms/step - loss: 0.1819 - auc: 0.6999 - val_loss: 0.1752 - val_auc: 0.7577\n",
            "Epoch 11/200\n",
            "333/333 [==============================] - 16s 49ms/step - loss: 0.1808 - auc: 0.7140 - val_loss: 0.1604 - val_auc: 0.7701\n",
            "Epoch 12/200\n",
            "333/333 [==============================] - 16s 48ms/step - loss: 0.1780 - auc: 0.7274 - val_loss: 0.1776 - val_auc: 0.7762\n",
            "Epoch 13/200\n",
            "333/333 [==============================] - 18s 54ms/step - loss: 0.1765 - auc: 0.7362 - val_loss: 0.1734 - val_auc: 0.7611\n",
            "Epoch 14/200\n",
            "333/333 [==============================] - 19s 57ms/step - loss: 0.1734 - auc: 0.7436 - val_loss: 0.1783 - val_auc: 0.7668\n",
            "Epoch 15/200\n",
            "333/333 [==============================] - 16s 48ms/step - loss: 0.1731 - auc: 0.7513 - val_loss: 0.1718 - val_auc: 0.7881\n",
            "Epoch 16/200\n",
            "333/333 [==============================] - 16s 49ms/step - loss: 0.1727 - auc: 0.7514 - val_loss: 0.1843 - val_auc: 0.7564\n"
          ]
        }
      ],
      "source": [
        "params = GNN.get_default_hyperparameters()\n",
        "params['message_calculation_class'] = 'GNN_FiLM'\n",
        "params[\"film_parameter_MLP_hidden_layers\"] = 1\n",
        "# make a model with the\n",
        "model = define_model(params)\n",
        "fit_model(64, model, 200, 2)"
      ]
    },
    {
      "cell_type": "markdown",
      "metadata": {
        "id": "TIO8lVtjOeDB"
      },
      "source": [
        "Results from this experiment are much more promising than the previous ones, but maybe increasing the number of mlp hidden layer would be giving the model more cpacity and make it better."
      ]
    },
    {
      "cell_type": "markdown",
      "metadata": {
        "id": "5Y2SuCPvO6TH"
      },
      "source": [
        "# Experiment 8\n",
        "Smae model as before but increasing the number of mlp layers in the parameters."
      ]
    },
    {
      "cell_type": "code",
      "execution_count": 87,
      "metadata": {
        "colab": {
          "base_uri": "https://localhost:8080/"
        },
        "id": "IbCml_IhPEia",
        "outputId": "2312268c-60c8-4dcf-eb56-9f290c484719"
      },
      "outputs": [
        {
          "name": "stdout",
          "output_type": "stream",
          "text": [
            "Model: \"model_7\"\n",
            "__________________________________________________________________________________________________\n",
            " Layer (type)                Output Shape                 Param #   Connected to                  \n",
            "==================================================================================================\n",
            " input_72 (InputLayer)       [(None,)]                    0         []                            \n",
            "                                                                                                  \n",
            " input_70 (InputLayer)       [(None,)]                    0         []                            \n",
            "                                                                                                  \n",
            " tf.math.reduce_max_23 (TFO  ()                           0         ['input_72[0][0]']            \n",
            " pLambda)                                                                                         \n",
            "                                                                                                  \n",
            " embedding_23 (Embedding)    (None, 20)                   10000     ['input_70[0][0]']            \n",
            "                                                                                                  \n",
            " input_71 (InputLayer)       [(None, 2)]                  0         []                            \n",
            "                                                                                                  \n",
            " tf.__operators__.add_23 (T  ()                           0         ['tf.math.reduce_max_23[0][0]'\n",
            " FOpLambda)                                                         ]                             \n",
            "                                                                                                  \n",
            " gnn_23 (GNN)                (None, 16)                   30432     ['embedding_23[0][0]',        \n",
            "                                                                     'input_71[0][0]',            \n",
            "                                                                     'input_72[0][0]',            \n",
            "                                                                     'tf.__operators__.add_23[0][0\n",
            "                                                                    ]']                           \n",
            "                                                                                                  \n",
            " tf.math.segment_mean_7 (TF  (None, 16)                   0         ['gnn_23[0][0]',              \n",
            " OpLambda)                                                           'input_72[0][0]']            \n",
            "                                                                                                  \n",
            " dense_7 (Dense)             (None, 1)                    17        ['tf.math.segment_mean_7[0][0]\n",
            "                                                                    ']                            \n",
            "                                                                                                  \n",
            "==================================================================================================\n",
            "Total params: 40449 (158.00 KB)\n",
            "Trainable params: 40449 (158.00 KB)\n",
            "Non-trainable params: 0 (0.00 Byte)\n",
            "__________________________________________________________________________________________________\n",
            "Epoch 1/200\n",
            "333/333 [==============================] - 29s 70ms/step - loss: 0.2843 - auc: 0.4764 - val_loss: 0.1933 - val_auc: 0.6151\n",
            "Epoch 2/200\n",
            "333/333 [==============================] - 20s 60ms/step - loss: 0.2011 - auc: 0.5590 - val_loss: 0.1964 - val_auc: 0.5819\n",
            "Epoch 3/200\n",
            "333/333 [==============================] - 22s 67ms/step - loss: 0.1984 - auc: 0.5787 - val_loss: 0.1969 - val_auc: 0.5921\n",
            "Epoch 4/200\n",
            "333/333 [==============================] - 20s 61ms/step - loss: 0.1948 - auc: 0.5979 - val_loss: 0.1881 - val_auc: 0.6209\n",
            "Epoch 5/200\n",
            "333/333 [==============================] - 20s 59ms/step - loss: 0.1914 - auc: 0.6280 - val_loss: 0.1944 - val_auc: 0.6343\n",
            "Epoch 6/200\n",
            "333/333 [==============================] - 23s 68ms/step - loss: 0.1873 - auc: 0.6531 - val_loss: 0.1807 - val_auc: 0.6831\n",
            "Epoch 7/200\n",
            "333/333 [==============================] - 19s 58ms/step - loss: 0.1844 - auc: 0.6655 - val_loss: 0.1866 - val_auc: 0.6972\n",
            "Epoch 8/200\n",
            "333/333 [==============================] - 21s 62ms/step - loss: 0.1817 - auc: 0.6795 - val_loss: 0.1884 - val_auc: 0.6802\n",
            "Epoch 9/200\n",
            "333/333 [==============================] - 22s 67ms/step - loss: 0.1799 - auc: 0.7034 - val_loss: 0.1798 - val_auc: 0.7014\n",
            "Epoch 10/200\n",
            "333/333 [==============================] - 22s 67ms/step - loss: 0.1820 - auc: 0.6884 - val_loss: 0.1727 - val_auc: 0.6999\n",
            "Epoch 11/200\n",
            "333/333 [==============================] - 24s 71ms/step - loss: 0.1793 - auc: 0.7092 - val_loss: 0.1807 - val_auc: 0.7164\n",
            "Epoch 12/200\n",
            "333/333 [==============================] - 21s 62ms/step - loss: 0.1781 - auc: 0.7132 - val_loss: 0.1790 - val_auc: 0.7477\n",
            "Epoch 13/200\n",
            "333/333 [==============================] - 21s 64ms/step - loss: 0.1778 - auc: 0.7146 - val_loss: 0.1825 - val_auc: 0.6725\n",
            "Epoch 14/200\n",
            "333/333 [==============================] - 20s 61ms/step - loss: 0.1788 - auc: 0.7116 - val_loss: 0.1844 - val_auc: 0.7344\n",
            "Epoch 15/200\n",
            "333/333 [==============================] - 20s 59ms/step - loss: 0.1772 - auc: 0.7192 - val_loss: 0.1626 - val_auc: 0.7368\n",
            "Epoch 16/200\n",
            "333/333 [==============================] - 21s 62ms/step - loss: 0.1769 - auc: 0.7316 - val_loss: 0.1866 - val_auc: 0.7417\n",
            "Epoch 17/200\n",
            "333/333 [==============================] - 21s 62ms/step - loss: 0.1755 - auc: 0.7311 - val_loss: 0.1778 - val_auc: 0.7479\n",
            "Epoch 18/200\n",
            "333/333 [==============================] - 19s 58ms/step - loss: 0.1752 - auc: 0.7434 - val_loss: 0.1929 - val_auc: 0.7448\n",
            "Epoch 19/200\n",
            "333/333 [==============================] - 22s 67ms/step - loss: 0.1745 - auc: 0.7434 - val_loss: 0.1710 - val_auc: 0.7451\n",
            "Epoch 20/200\n",
            "333/333 [==============================] - 22s 66ms/step - loss: 0.1746 - auc: 0.7423 - val_loss: 0.1788 - val_auc: 0.7446\n"
          ]
        }
      ],
      "source": [
        "params = GNN.get_default_hyperparameters()\n",
        "params['message_calculation_class'] = 'GNN_FiLM'\n",
        "params[\"film_parameter_MLP_hidden_layers\"] = 5\n",
        "# make a model with the\n",
        "model = define_model(params)\n",
        "fit_model(64, model, 200, 2)"
      ]
    },
    {
      "cell_type": "markdown",
      "metadata": {
        "id": "uBXeyXGzQwD5"
      },
      "source": [
        "Didn't improve from the previous one, but in general the GNN_FiLM is the best till now, next I will try balancing the data to check if this would make the AUC score higher using the same algorithm."
      ]
    },
    {
      "cell_type": "markdown",
      "metadata": {
        "id": "f9wb5i0fcyhJ"
      },
      "source": [
        "# Experiment 9\n",
        "\n",
        "In this experiment I will try the RGAT message passing with upsampling to be able to compare it with GNN_FiLM and check the results, I am expecting the results to be much better than before."
      ]
    },
    {
      "cell_type": "code",
      "execution_count": 89,
      "metadata": {
        "colab": {
          "base_uri": "https://localhost:8080/",
          "height": 49,
          "referenced_widgets": [
            "2e14332d35084e8ca6f95827c89f537e",
            "39c1eb0db57049f48c28d2ad324d5b81",
            "f58a4e1d0f6143ec8cba4ba757f9b201",
            "bb49290765ed4773a6da637dd31747af",
            "5f3bed384a224c5096c316703154ee6d",
            "f466fbdc5ff549d5be2632d9473d21b3",
            "b7ed81b12ca245adbf82cc125016f22e",
            "3f84682ce53b440085bb97be08c7f3ab",
            "2ee237401e734a798169913775113503",
            "fe5857c30c2d4491a707c7a927213009",
            "62ed79f3b54545e5a84c8e46851433a3"
          ]
        },
        "id": "W70ElbyLRcNu",
        "outputId": "989a160d-1741-43af-f2f3-1b7f7cc82246"
      },
      "outputs": [
        {
          "data": {
            "application/vnd.jupyter.widget-view+json": {
              "model_id": "2e14332d35084e8ca6f95827c89f537e",
              "version_major": 2,
              "version_minor": 0
            },
            "text/plain": [
              "  0%|          | 0/25024 [00:00<?, ?it/s]"
            ]
          },
          "metadata": {},
          "output_type": "display_data"
        }
      ],
      "source": [
        "training_set = read_sdf(\"/content/train.sdf\")\n",
        "# training_set, validation_set = train_test_split(training_set, test_size=0.15, shuffle = True)"
      ]
    },
    {
      "cell_type": "code",
      "execution_count": 118,
      "metadata": {
        "colab": {
          "base_uri": "https://localhost:8080/"
        },
        "id": "t4jbskq5Uaaa",
        "outputId": "a775dd38-01da-4f06-c998-16a33ffb9db5"
      },
      "outputs": [
        {
          "data": {
            "text/plain": [
              "2\n",
              "0    23806\n",
              "1     1218\n",
              "Name: count, dtype: int64"
            ]
          },
          "execution_count": 118,
          "metadata": {},
          "output_type": "execute_result"
        }
      ],
      "source": [
        "pd.DataFrame(training_set)[2].value_counts()"
      ]
    },
    {
      "cell_type": "code",
      "execution_count": 132,
      "metadata": {
        "id": "-v4sYCAERkgL"
      },
      "outputs": [],
      "source": [
        "upsampled = pd.DataFrame(training_set).groupby(2).apply(lambda x: x.sample(23806, replace = True) if (x[2] == 1).any() else x)"
      ]
    },
    {
      "cell_type": "code",
      "execution_count": 136,
      "metadata": {
        "id": "mOLuQiJ9VMdH"
      },
      "outputs": [],
      "source": [
        "training_set = upsampled.values\n",
        "training_set, validation_set = train_test_split(training_set, test_size=0.15, shuffle = True)"
      ]
    },
    {
      "cell_type": "code",
      "execution_count": 137,
      "metadata": {
        "colab": {
          "base_uri": "https://localhost:8080/"
        },
        "id": "EV8DyvUXVmFK",
        "outputId": "25424902-745a-46cc-8157-225094196d4c"
      },
      "outputs": [
        {
          "name": "stdout",
          "output_type": "stream",
          "text": [
            "Model: \"model_8\"\n",
            "__________________________________________________________________________________________________\n",
            " Layer (type)                Output Shape                 Param #   Connected to                  \n",
            "==================================================================================================\n",
            " input_75 (InputLayer)       [(None,)]                    0         []                            \n",
            "                                                                                                  \n",
            " input_73 (InputLayer)       [(None,)]                    0         []                            \n",
            "                                                                                                  \n",
            " tf.math.reduce_max_24 (TFO  ()                           0         ['input_75[0][0]']            \n",
            " pLambda)                                                                                         \n",
            "                                                                                                  \n",
            " embedding_24 (Embedding)    (None, 20)                   10000     ['input_73[0][0]']            \n",
            "                                                                                                  \n",
            " input_74 (InputLayer)       [(None, 2)]                  0         []                            \n",
            "                                                                                                  \n",
            " tf.__operators__.add_24 (T  ()                           0         ['tf.math.reduce_max_24[0][0]'\n",
            " FOpLambda)                                                         ]                             \n",
            "                                                                                                  \n",
            " gnn_24 (GNN)                (None, 64)                   126080    ['embedding_24[0][0]',        \n",
            "                                                                     'input_74[0][0]',            \n",
            "                                                                     'input_75[0][0]',            \n",
            "                                                                     'tf.__operators__.add_24[0][0\n",
            "                                                                    ]']                           \n",
            "                                                                                                  \n",
            " tf.math.segment_mean_8 (TF  (None, 64)                   0         ['gnn_24[0][0]',              \n",
            " OpLambda)                                                           'input_75[0][0]']            \n",
            "                                                                                                  \n",
            " dense_8 (Dense)             (None, 1)                    65        ['tf.math.segment_mean_8[0][0]\n",
            "                                                                    ']                            \n",
            "                                                                                                  \n",
            "==================================================================================================\n",
            "Total params: 136145 (531.82 KB)\n",
            "Trainable params: 136145 (531.82 KB)\n",
            "Non-trainable params: 0 (0.00 Byte)\n",
            "__________________________________________________________________________________________________\n",
            "Epoch 1/200\n",
            "2530/2530 [==============================] - 263s 99ms/step - loss: 0.6378 - auc: 0.6844 - val_loss: 0.6204 - val_auc: 0.7281\n",
            "Epoch 2/200\n",
            "2530/2530 [==============================] - 232s 92ms/step - loss: 0.5819 - auc: 0.7578 - val_loss: 0.5563 - val_auc: 0.7852\n",
            "Epoch 3/200\n",
            "2530/2530 [==============================] - 215s 85ms/step - loss: 0.5549 - auc: 0.7879 - val_loss: 0.5387 - val_auc: 0.8096\n",
            "Epoch 4/200\n",
            "2530/2530 [==============================] - 218s 86ms/step - loss: 0.5364 - auc: 0.8064 - val_loss: 0.5208 - val_auc: 0.8251\n",
            "Epoch 5/200\n",
            "2530/2530 [==============================] - 224s 88ms/step - loss: 0.5225 - auc: 0.8190 - val_loss: 0.4990 - val_auc: 0.8409\n",
            "Epoch 6/200\n",
            "2530/2530 [==============================] - 231s 91ms/step - loss: 0.5028 - auc: 0.8350 - val_loss: 0.4935 - val_auc: 0.8419\n",
            "Epoch 7/200\n",
            "2530/2530 [==============================] - 213s 84ms/step - loss: 0.4872 - auc: 0.8464 - val_loss: 0.4660 - val_auc: 0.8635\n",
            "Epoch 8/200\n",
            "2530/2530 [==============================] - 219s 87ms/step - loss: 0.4727 - auc: 0.8567 - val_loss: 0.4531 - val_auc: 0.8751\n",
            "Epoch 9/200\n",
            "2530/2530 [==============================] - 233s 92ms/step - loss: 0.4562 - auc: 0.8675 - val_loss: 0.4431 - val_auc: 0.8797\n",
            "Epoch 10/200\n",
            "2530/2530 [==============================] - 223s 88ms/step - loss: 0.4433 - auc: 0.8755 - val_loss: 0.4212 - val_auc: 0.8900\n",
            "Epoch 11/200\n",
            "2530/2530 [==============================] - 234s 93ms/step - loss: 0.4337 - auc: 0.8812 - val_loss: 0.4406 - val_auc: 0.8874\n",
            "Epoch 12/200\n",
            "2530/2530 [==============================] - 232s 92ms/step - loss: 0.4276 - auc: 0.8849 - val_loss: 0.4282 - val_auc: 0.8906\n",
            "Epoch 13/200\n",
            "2530/2530 [==============================] - 226s 89ms/step - loss: 0.4165 - auc: 0.8910 - val_loss: 0.4118 - val_auc: 0.8993\n",
            "Epoch 14/200\n",
            "2530/2530 [==============================] - 234s 92ms/step - loss: 0.4039 - auc: 0.8978 - val_loss: 0.4073 - val_auc: 0.9009\n",
            "Epoch 15/200\n",
            "2530/2530 [==============================] - 224s 88ms/step - loss: 0.3979 - auc: 0.9009 - val_loss: 0.4006 - val_auc: 0.9091\n",
            "Epoch 16/200\n",
            "2530/2530 [==============================] - 224s 89ms/step - loss: 0.3942 - auc: 0.9029 - val_loss: 0.3490 - val_auc: 0.9247\n",
            "Epoch 17/200\n",
            "2530/2530 [==============================] - 224s 88ms/step - loss: 0.3830 - auc: 0.9083 - val_loss: 0.3691 - val_auc: 0.9169\n",
            "Epoch 18/200\n",
            "2530/2530 [==============================] - 236s 93ms/step - loss: 0.3793 - auc: 0.9103 - val_loss: 0.3454 - val_auc: 0.9272\n",
            "Epoch 19/200\n",
            "2530/2530 [==============================] - 224s 88ms/step - loss: 0.3749 - auc: 0.9121 - val_loss: 0.3539 - val_auc: 0.9218\n",
            "Epoch 20/200\n",
            "2530/2530 [==============================] - 223s 88ms/step - loss: 0.3691 - auc: 0.9143 - val_loss: 0.3548 - val_auc: 0.9244\n",
            "Epoch 21/200\n",
            "2530/2530 [==============================] - 223s 88ms/step - loss: 0.3638 - auc: 0.9172 - val_loss: 0.3480 - val_auc: 0.9286\n",
            "Epoch 22/200\n",
            "2530/2530 [==============================] - 223s 88ms/step - loss: 0.3644 - auc: 0.9172 - val_loss: 0.3599 - val_auc: 0.9261\n",
            "Epoch 23/200\n",
            "2530/2530 [==============================] - 221s 87ms/step - loss: 0.3610 - auc: 0.9182 - val_loss: 0.3542 - val_auc: 0.9273\n"
          ]
        }
      ],
      "source": [
        "params[\"hidden_dim\"] = 64\n",
        "params['message_calculation_class']= 'RGAT'\n",
        "params[\"num_layers\"] = 5\n",
        "params['num_heads']= 8\n",
        "\n",
        "model = define_model(params)\n",
        "fit_model(16, model, 200, 2)"
      ]
    },
    {
      "cell_type": "markdown",
      "metadata": {
        "id": "Yhn6o7NFqF6r"
      },
      "source": [
        "As expected there is much improvement in the results and on the leaderboard as well, but now I will try the FiLM model."
      ]
    },
    {
      "cell_type": "markdown",
      "metadata": {
        "id": "QlsgoUI8qOsH"
      },
      "source": [
        "# Experiment 10"
      ]
    },
    {
      "cell_type": "code",
      "execution_count": 141,
      "metadata": {
        "colab": {
          "base_uri": "https://localhost:8080/"
        },
        "id": "kmFNWv57qUE4",
        "outputId": "ce66c360-0bd9-4d48-ec5d-a01886b01d1b"
      },
      "outputs": [
        {
          "name": "stdout",
          "output_type": "stream",
          "text": [
            "Model: \"model_9\"\n",
            "__________________________________________________________________________________________________\n",
            " Layer (type)                Output Shape                 Param #   Connected to                  \n",
            "==================================================================================================\n",
            " input_78 (InputLayer)       [(None,)]                    0         []                            \n",
            "                                                                                                  \n",
            " input_76 (InputLayer)       [(None,)]                    0         []                            \n",
            "                                                                                                  \n",
            " tf.math.reduce_max_25 (TFO  ()                           0         ['input_78[0][0]']            \n",
            " pLambda)                                                                                         \n",
            "                                                                                                  \n",
            " embedding_25 (Embedding)    (None, 20)                   10000     ['input_76[0][0]']            \n",
            "                                                                                                  \n",
            " input_77 (InputLayer)       [(None, 2)]                  0         []                            \n",
            "                                                                                                  \n",
            " tf.__operators__.add_25 (T  ()                           0         ['tf.math.reduce_max_25[0][0]'\n",
            " FOpLambda)                                                         ]                             \n",
            "                                                                                                  \n",
            " gnn_25 (GNN)                (None, 16)                   14048     ['embedding_25[0][0]',        \n",
            "                                                                     'input_77[0][0]',            \n",
            "                                                                     'input_78[0][0]',            \n",
            "                                                                     'tf.__operators__.add_25[0][0\n",
            "                                                                    ]']                           \n",
            "                                                                                                  \n",
            " tf.math.segment_mean_9 (TF  (None, 16)                   0         ['gnn_25[0][0]',              \n",
            " OpLambda)                                                           'input_78[0][0]']            \n",
            "                                                                                                  \n",
            " dense_9 (Dense)             (None, 1)                    17        ['tf.math.segment_mean_9[0][0]\n",
            "                                                                    ']                            \n",
            "                                                                                                  \n",
            "==================================================================================================\n",
            "Total params: 24065 (94.00 KB)\n",
            "Trainable params: 24065 (94.00 KB)\n",
            "Non-trainable params: 0 (0.00 Byte)\n",
            "__________________________________________________________________________________________________\n",
            "Epoch 1/200\n",
            "633/633 [==============================] - 38s 53ms/step - loss: 0.6595 - auc: 0.6485 - val_loss: 0.6379 - val_auc: 0.6909\n",
            "Epoch 2/200\n",
            "633/633 [==============================] - 37s 58ms/step - loss: 0.6298 - auc: 0.6918 - val_loss: 0.6247 - val_auc: 0.7079\n",
            "Epoch 3/200\n",
            "633/633 [==============================] - 35s 55ms/step - loss: 0.6009 - auc: 0.7383 - val_loss: 0.5828 - val_auc: 0.7658\n",
            "Epoch 4/200\n",
            "633/633 [==============================] - 36s 58ms/step - loss: 0.5686 - auc: 0.7780 - val_loss: 0.5471 - val_auc: 0.7976\n",
            "Epoch 5/200\n",
            "633/633 [==============================] - 35s 56ms/step - loss: 0.5436 - auc: 0.8013 - val_loss: 0.5429 - val_auc: 0.8088\n",
            "Epoch 6/200\n",
            "633/633 [==============================] - 35s 55ms/step - loss: 0.5264 - auc: 0.8166 - val_loss: 0.5249 - val_auc: 0.8177\n",
            "Epoch 7/200\n",
            "633/633 [==============================] - 34s 54ms/step - loss: 0.5112 - auc: 0.8294 - val_loss: 0.5080 - val_auc: 0.8308\n",
            "Epoch 8/200\n",
            "633/633 [==============================] - 35s 55ms/step - loss: 0.5004 - auc: 0.8378 - val_loss: 0.5181 - val_auc: 0.8341\n",
            "Epoch 9/200\n",
            "633/633 [==============================] - 38s 59ms/step - loss: 0.4899 - auc: 0.8454 - val_loss: 0.5010 - val_auc: 0.8451\n",
            "Epoch 10/200\n",
            "633/633 [==============================] - 34s 54ms/step - loss: 0.4843 - auc: 0.8495 - val_loss: 0.5004 - val_auc: 0.8417\n",
            "Epoch 11/200\n",
            "633/633 [==============================] - 34s 54ms/step - loss: 0.4732 - auc: 0.8568 - val_loss: 0.5129 - val_auc: 0.8503\n",
            "Epoch 12/200\n",
            "633/633 [==============================] - 38s 60ms/step - loss: 0.4683 - auc: 0.8601 - val_loss: 0.5124 - val_auc: 0.8506\n",
            "Epoch 13/200\n",
            "633/633 [==============================] - 34s 54ms/step - loss: 0.4591 - auc: 0.8661 - val_loss: 0.4975 - val_auc: 0.8553\n",
            "Epoch 14/200\n",
            "633/633 [==============================] - 34s 54ms/step - loss: 0.4561 - auc: 0.8684 - val_loss: 0.4632 - val_auc: 0.8683\n",
            "Epoch 15/200\n",
            "633/633 [==============================] - 37s 59ms/step - loss: 0.4499 - auc: 0.8720 - val_loss: 0.4681 - val_auc: 0.8669\n",
            "Epoch 16/200\n",
            "633/633 [==============================] - 34s 53ms/step - loss: 0.4438 - auc: 0.8761 - val_loss: 0.4760 - val_auc: 0.8637\n",
            "Epoch 17/200\n",
            "633/633 [==============================] - 34s 54ms/step - loss: 0.4369 - auc: 0.8801 - val_loss: 0.4675 - val_auc: 0.8749\n",
            "Epoch 18/200\n",
            "633/633 [==============================] - 34s 54ms/step - loss: 0.4328 - auc: 0.8824 - val_loss: 0.4557 - val_auc: 0.8704\n",
            "Epoch 19/200\n",
            "633/633 [==============================] - 39s 61ms/step - loss: 0.4284 - auc: 0.8844 - val_loss: 0.4407 - val_auc: 0.8778\n",
            "Epoch 20/200\n",
            "633/633 [==============================] - 34s 54ms/step - loss: 0.4222 - auc: 0.8882 - val_loss: 0.4349 - val_auc: 0.8835\n",
            "Epoch 21/200\n",
            "633/633 [==============================] - 36s 56ms/step - loss: 0.4143 - auc: 0.8929 - val_loss: 0.4423 - val_auc: 0.8801\n",
            "Epoch 22/200\n",
            "633/633 [==============================] - 36s 57ms/step - loss: 0.4083 - auc: 0.8954 - val_loss: 0.4366 - val_auc: 0.8846\n",
            "Epoch 23/200\n",
            "633/633 [==============================] - 35s 55ms/step - loss: 0.4005 - auc: 0.8999 - val_loss: 0.5075 - val_auc: 0.8821\n",
            "Epoch 24/200\n",
            "633/633 [==============================] - 34s 54ms/step - loss: 0.3981 - auc: 0.9014 - val_loss: 0.4102 - val_auc: 0.8943\n",
            "Epoch 25/200\n",
            "633/633 [==============================] - 34s 54ms/step - loss: 0.3910 - auc: 0.9047 - val_loss: 0.4218 - val_auc: 0.8954\n",
            "Epoch 26/200\n",
            "633/633 [==============================] - 35s 55ms/step - loss: 0.3870 - auc: 0.9071 - val_loss: 0.3978 - val_auc: 0.9024\n",
            "Epoch 27/200\n",
            "633/633 [==============================] - 37s 58ms/step - loss: 0.3826 - auc: 0.9092 - val_loss: 0.4157 - val_auc: 0.8995\n",
            "Epoch 28/200\n",
            "633/633 [==============================] - 34s 54ms/step - loss: 0.3766 - auc: 0.9122 - val_loss: 0.3926 - val_auc: 0.9130\n",
            "Epoch 29/200\n",
            "633/633 [==============================] - 35s 55ms/step - loss: 0.3747 - auc: 0.9133 - val_loss: 0.4010 - val_auc: 0.9058\n",
            "Epoch 30/200\n",
            "633/633 [==============================] - 35s 56ms/step - loss: 0.3715 - auc: 0.9149 - val_loss: 0.4644 - val_auc: 0.8981\n",
            "Epoch 31/200\n",
            "633/633 [==============================] - 34s 54ms/step - loss: 0.3637 - auc: 0.9184 - val_loss: 0.3886 - val_auc: 0.9083\n",
            "Epoch 32/200\n",
            "633/633 [==============================] - 35s 55ms/step - loss: 0.3599 - auc: 0.9199 - val_loss: 0.3876 - val_auc: 0.9086\n",
            "Epoch 33/200\n",
            "633/633 [==============================] - 39s 61ms/step - loss: 0.3569 - auc: 0.9209 - val_loss: 0.3786 - val_auc: 0.9137\n",
            "Epoch 34/200\n",
            "633/633 [==============================] - 35s 55ms/step - loss: 0.3548 - auc: 0.9222 - val_loss: 0.4126 - val_auc: 0.9038\n",
            "Epoch 35/200\n",
            "633/633 [==============================] - 34s 54ms/step - loss: 0.3508 - auc: 0.9238 - val_loss: 0.4881 - val_auc: 0.8975\n",
            "Epoch 36/200\n",
            "633/633 [==============================] - 38s 61ms/step - loss: 0.3498 - auc: 0.9246 - val_loss: 0.4588 - val_auc: 0.9050\n",
            "Epoch 37/200\n",
            "633/633 [==============================] - 34s 54ms/step - loss: 0.3449 - auc: 0.9266 - val_loss: 0.3978 - val_auc: 0.9069\n",
            "Epoch 38/200\n",
            "633/633 [==============================] - 34s 54ms/step - loss: 0.3427 - auc: 0.9273 - val_loss: 0.3897 - val_auc: 0.9157\n"
          ]
        }
      ],
      "source": [
        "params = GNN.get_default_hyperparameters()\n",
        "params['message_calculation_class'] = 'GNN_FiLM'\n",
        "params[\"film_parameter_MLP_hidden_layers\"] = 1\n",
        "# make a model with the\n",
        "model = define_model(params)\n",
        "fit_model(64, model, 200, 2)"
      ]
    },
    {
      "cell_type": "markdown",
      "metadata": {
        "id": "IvKXmS9ax-FG"
      },
      "source": [
        "The results are simillar to the previous one but slightly improved on the public leaderboard to 0.85418 while it was 0.84305"
      ]
    },
    {
      "cell_type": "markdown",
      "metadata": {
        "id": "1RypjhoQyHfi"
      },
      "source": [
        "# Conclusion and future work\n",
        "\n",
        "It is very notable to see that the result improved significantly after doing the upsampling, while it might have been better if I tried optimizing the hyperparameters using bayesian optimization but the runtime of the algorithm is too much for the limited resources that I have.\n",
        "\n",
        "Other algorithms for the upsampling can also be researched."
      ]
    },
    {
      "cell_type": "code",
      "execution_count": 142,
      "metadata": {
        "colab": {
          "base_uri": "https://localhost:8080/"
        },
        "id": "NNcJRsnYEYOo",
        "outputId": "5a461719-adf6-4de2-d5d2-557924f41883"
      },
      "outputs": [
        {
          "name": "stdout",
          "output_type": "stream",
          "text": [
            "771/771 [==============================] - 7s 8ms/step\n"
          ]
        }
      ],
      "source": [
        "y_pred = model.predict(\n",
        "    gen_batch(testing_set, batch_size=16, shuffle=False)\n",
        ")\n",
        "y_pred = np.reshape(y_pred, -1)"
      ]
    },
    {
      "cell_type": "code",
      "execution_count": 143,
      "metadata": {
        "id": "uYCtPSsLEYOo"
      },
      "outputs": [],
      "source": [
        "import pandas as pd\n",
        "submission = pd.DataFrame({'label':y_pred})\n",
        "submission.index.name = 'id'\n",
        "submission.to_csv('sample_submissionTrialdata.csv')"
      ]
    }
  ],
  "metadata": {
    "accelerator": "GPU",
    "colab": {
      "gpuType": "T4",
      "provenance": []
    },
    "kaggle": {
      "accelerator": "none",
      "dataSources": [
        {
          "databundleVersionId": 8355047,
          "sourceId": 76991,
          "sourceType": "competition"
        }
      ],
      "isGpuEnabled": false,
      "isInternetEnabled": true,
      "language": "python",
      "sourceType": "notebook"
    },
    "kernelspec": {
      "display_name": "Python 3",
      "name": "python3"
    },
    "language_info": {
      "codemirror_mode": {
        "name": "ipython",
        "version": 3
      },
      "file_extension": ".py",
      "mimetype": "text/x-python",
      "name": "python",
      "nbconvert_exporter": "python",
      "pygments_lexer": "ipython3",
      "version": "3.10.13"
    },
    "widgets": {
      "application/vnd.jupyter.widget-state+json": {
        "2e14332d35084e8ca6f95827c89f537e": {
          "model_module": "@jupyter-widgets/controls",
          "model_module_version": "1.5.0",
          "model_name": "HBoxModel",
          "state": {
            "_dom_classes": [],
            "_model_module": "@jupyter-widgets/controls",
            "_model_module_version": "1.5.0",
            "_model_name": "HBoxModel",
            "_view_count": null,
            "_view_module": "@jupyter-widgets/controls",
            "_view_module_version": "1.5.0",
            "_view_name": "HBoxView",
            "box_style": "",
            "children": [
              "IPY_MODEL_39c1eb0db57049f48c28d2ad324d5b81",
              "IPY_MODEL_f58a4e1d0f6143ec8cba4ba757f9b201",
              "IPY_MODEL_bb49290765ed4773a6da637dd31747af"
            ],
            "layout": "IPY_MODEL_5f3bed384a224c5096c316703154ee6d"
          }
        },
        "2ee237401e734a798169913775113503": {
          "model_module": "@jupyter-widgets/controls",
          "model_module_version": "1.5.0",
          "model_name": "ProgressStyleModel",
          "state": {
            "_model_module": "@jupyter-widgets/controls",
            "_model_module_version": "1.5.0",
            "_model_name": "ProgressStyleModel",
            "_view_count": null,
            "_view_module": "@jupyter-widgets/base",
            "_view_module_version": "1.2.0",
            "_view_name": "StyleView",
            "bar_color": null,
            "description_width": ""
          }
        },
        "39c1eb0db57049f48c28d2ad324d5b81": {
          "model_module": "@jupyter-widgets/controls",
          "model_module_version": "1.5.0",
          "model_name": "HTMLModel",
          "state": {
            "_dom_classes": [],
            "_model_module": "@jupyter-widgets/controls",
            "_model_module_version": "1.5.0",
            "_model_name": "HTMLModel",
            "_view_count": null,
            "_view_module": "@jupyter-widgets/controls",
            "_view_module_version": "1.5.0",
            "_view_name": "HTMLView",
            "description": "",
            "description_tooltip": null,
            "layout": "IPY_MODEL_f466fbdc5ff549d5be2632d9473d21b3",
            "placeholder": "​",
            "style": "IPY_MODEL_b7ed81b12ca245adbf82cc125016f22e",
            "value": "100%"
          }
        },
        "3f84682ce53b440085bb97be08c7f3ab": {
          "model_module": "@jupyter-widgets/base",
          "model_module_version": "1.2.0",
          "model_name": "LayoutModel",
          "state": {
            "_model_module": "@jupyter-widgets/base",
            "_model_module_version": "1.2.0",
            "_model_name": "LayoutModel",
            "_view_count": null,
            "_view_module": "@jupyter-widgets/base",
            "_view_module_version": "1.2.0",
            "_view_name": "LayoutView",
            "align_content": null,
            "align_items": null,
            "align_self": null,
            "border": null,
            "bottom": null,
            "display": null,
            "flex": null,
            "flex_flow": null,
            "grid_area": null,
            "grid_auto_columns": null,
            "grid_auto_flow": null,
            "grid_auto_rows": null,
            "grid_column": null,
            "grid_gap": null,
            "grid_row": null,
            "grid_template_areas": null,
            "grid_template_columns": null,
            "grid_template_rows": null,
            "height": null,
            "justify_content": null,
            "justify_items": null,
            "left": null,
            "margin": null,
            "max_height": null,
            "max_width": null,
            "min_height": null,
            "min_width": null,
            "object_fit": null,
            "object_position": null,
            "order": null,
            "overflow": null,
            "overflow_x": null,
            "overflow_y": null,
            "padding": null,
            "right": null,
            "top": null,
            "visibility": null,
            "width": null
          }
        },
        "5f3bed384a224c5096c316703154ee6d": {
          "model_module": "@jupyter-widgets/base",
          "model_module_version": "1.2.0",
          "model_name": "LayoutModel",
          "state": {
            "_model_module": "@jupyter-widgets/base",
            "_model_module_version": "1.2.0",
            "_model_name": "LayoutModel",
            "_view_count": null,
            "_view_module": "@jupyter-widgets/base",
            "_view_module_version": "1.2.0",
            "_view_name": "LayoutView",
            "align_content": null,
            "align_items": null,
            "align_self": null,
            "border": null,
            "bottom": null,
            "display": null,
            "flex": null,
            "flex_flow": null,
            "grid_area": null,
            "grid_auto_columns": null,
            "grid_auto_flow": null,
            "grid_auto_rows": null,
            "grid_column": null,
            "grid_gap": null,
            "grid_row": null,
            "grid_template_areas": null,
            "grid_template_columns": null,
            "grid_template_rows": null,
            "height": null,
            "justify_content": null,
            "justify_items": null,
            "left": null,
            "margin": null,
            "max_height": null,
            "max_width": null,
            "min_height": null,
            "min_width": null,
            "object_fit": null,
            "object_position": null,
            "order": null,
            "overflow": null,
            "overflow_x": null,
            "overflow_y": null,
            "padding": null,
            "right": null,
            "top": null,
            "visibility": null,
            "width": null
          }
        },
        "62ed79f3b54545e5a84c8e46851433a3": {
          "model_module": "@jupyter-widgets/controls",
          "model_module_version": "1.5.0",
          "model_name": "DescriptionStyleModel",
          "state": {
            "_model_module": "@jupyter-widgets/controls",
            "_model_module_version": "1.5.0",
            "_model_name": "DescriptionStyleModel",
            "_view_count": null,
            "_view_module": "@jupyter-widgets/base",
            "_view_module_version": "1.2.0",
            "_view_name": "StyleView",
            "description_width": ""
          }
        },
        "b7ed81b12ca245adbf82cc125016f22e": {
          "model_module": "@jupyter-widgets/controls",
          "model_module_version": "1.5.0",
          "model_name": "DescriptionStyleModel",
          "state": {
            "_model_module": "@jupyter-widgets/controls",
            "_model_module_version": "1.5.0",
            "_model_name": "DescriptionStyleModel",
            "_view_count": null,
            "_view_module": "@jupyter-widgets/base",
            "_view_module_version": "1.2.0",
            "_view_name": "StyleView",
            "description_width": ""
          }
        },
        "bb49290765ed4773a6da637dd31747af": {
          "model_module": "@jupyter-widgets/controls",
          "model_module_version": "1.5.0",
          "model_name": "HTMLModel",
          "state": {
            "_dom_classes": [],
            "_model_module": "@jupyter-widgets/controls",
            "_model_module_version": "1.5.0",
            "_model_name": "HTMLModel",
            "_view_count": null,
            "_view_module": "@jupyter-widgets/controls",
            "_view_module_version": "1.5.0",
            "_view_name": "HTMLView",
            "description": "",
            "description_tooltip": null,
            "layout": "IPY_MODEL_fe5857c30c2d4491a707c7a927213009",
            "placeholder": "​",
            "style": "IPY_MODEL_62ed79f3b54545e5a84c8e46851433a3",
            "value": " 25024/25024 [00:43&lt;00:00, 11231.72it/s]"
          }
        },
        "f466fbdc5ff549d5be2632d9473d21b3": {
          "model_module": "@jupyter-widgets/base",
          "model_module_version": "1.2.0",
          "model_name": "LayoutModel",
          "state": {
            "_model_module": "@jupyter-widgets/base",
            "_model_module_version": "1.2.0",
            "_model_name": "LayoutModel",
            "_view_count": null,
            "_view_module": "@jupyter-widgets/base",
            "_view_module_version": "1.2.0",
            "_view_name": "LayoutView",
            "align_content": null,
            "align_items": null,
            "align_self": null,
            "border": null,
            "bottom": null,
            "display": null,
            "flex": null,
            "flex_flow": null,
            "grid_area": null,
            "grid_auto_columns": null,
            "grid_auto_flow": null,
            "grid_auto_rows": null,
            "grid_column": null,
            "grid_gap": null,
            "grid_row": null,
            "grid_template_areas": null,
            "grid_template_columns": null,
            "grid_template_rows": null,
            "height": null,
            "justify_content": null,
            "justify_items": null,
            "left": null,
            "margin": null,
            "max_height": null,
            "max_width": null,
            "min_height": null,
            "min_width": null,
            "object_fit": null,
            "object_position": null,
            "order": null,
            "overflow": null,
            "overflow_x": null,
            "overflow_y": null,
            "padding": null,
            "right": null,
            "top": null,
            "visibility": null,
            "width": null
          }
        },
        "f58a4e1d0f6143ec8cba4ba757f9b201": {
          "model_module": "@jupyter-widgets/controls",
          "model_module_version": "1.5.0",
          "model_name": "FloatProgressModel",
          "state": {
            "_dom_classes": [],
            "_model_module": "@jupyter-widgets/controls",
            "_model_module_version": "1.5.0",
            "_model_name": "FloatProgressModel",
            "_view_count": null,
            "_view_module": "@jupyter-widgets/controls",
            "_view_module_version": "1.5.0",
            "_view_name": "ProgressView",
            "bar_style": "success",
            "description": "",
            "description_tooltip": null,
            "layout": "IPY_MODEL_3f84682ce53b440085bb97be08c7f3ab",
            "max": 25024,
            "min": 0,
            "orientation": "horizontal",
            "style": "IPY_MODEL_2ee237401e734a798169913775113503",
            "value": 25024
          }
        },
        "fe5857c30c2d4491a707c7a927213009": {
          "model_module": "@jupyter-widgets/base",
          "model_module_version": "1.2.0",
          "model_name": "LayoutModel",
          "state": {
            "_model_module": "@jupyter-widgets/base",
            "_model_module_version": "1.2.0",
            "_model_name": "LayoutModel",
            "_view_count": null,
            "_view_module": "@jupyter-widgets/base",
            "_view_module_version": "1.2.0",
            "_view_name": "LayoutView",
            "align_content": null,
            "align_items": null,
            "align_self": null,
            "border": null,
            "bottom": null,
            "display": null,
            "flex": null,
            "flex_flow": null,
            "grid_area": null,
            "grid_auto_columns": null,
            "grid_auto_flow": null,
            "grid_auto_rows": null,
            "grid_column": null,
            "grid_gap": null,
            "grid_row": null,
            "grid_template_areas": null,
            "grid_template_columns": null,
            "grid_template_rows": null,
            "height": null,
            "justify_content": null,
            "justify_items": null,
            "left": null,
            "margin": null,
            "max_height": null,
            "max_width": null,
            "min_height": null,
            "min_width": null,
            "object_fit": null,
            "object_position": null,
            "order": null,
            "overflow": null,
            "overflow_x": null,
            "overflow_y": null,
            "padding": null,
            "right": null,
            "top": null,
            "visibility": null,
            "width": null
          }
        }
      }
    }
  },
  "nbformat": 4,
  "nbformat_minor": 0
}
